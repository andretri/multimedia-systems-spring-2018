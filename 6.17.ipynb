{
 "cells": [
  {
   "cell_type": "code",
   "execution_count": 1,
   "metadata": {},
   "outputs": [],
   "source": [
    "%matplotlib inline\n",
    "\n",
    "from io import StringIO\n",
    "from PIL import Image\n",
    "import imageio\n",
    "import numpy as np\n",
    "import pylab\n",
    "import matplotlib.pyplot as plt\n",
    "import os"
   ]
  },
  {
   "cell_type": "code",
   "execution_count": 2,
   "metadata": {
    "collapsed": true
   },
   "outputs": [],
   "source": [
    "homer_vid = \"Documents/multimedia-systems-spring-2018/resources/homer.mp4\"\n",
    "resources_path = \"Documents/multimedia-systems-spring-2018/resources\""
   ]
  },
  {
   "cell_type": "code",
   "execution_count": 18,
   "metadata": {
    "collapsed": true
   },
   "outputs": [],
   "source": [
    "def QuantizeVid(frames, Q=10):\n",
    "    frames_q = []\n",
    "    for frame in frames:\n",
    "        frames_q.append(np.around(np.around(frame/Q, 2)*Q, 2))\n",
    "    return frames_q"
   ]
  },
  {
   "cell_type": "code",
   "execution_count": 19,
   "metadata": {
    "collapsed": true
   },
   "outputs": [],
   "source": [
    "def QuantizeImage(img, Q=10):\n",
    "    return np.around(np.around(img/Q, 2)*Q, 2)"
   ]
  },
  {
   "cell_type": "code",
   "execution_count": 5,
   "metadata": {
    "collapsed": true
   },
   "outputs": [],
   "source": [
    "def VidConvertGrayScale(rgbVid):\n",
    "    '''Converts numpy array vid to BW vid'''\n",
    "    frames_bw = []\n",
    "    for frame in rgbVid:\n",
    "        frames_bw.append(np.dot(frame[:,:,:3], [0.2989, 0.587, 0.114]))\n",
    "    return np.array(frames_bw)"
   ]
  },
  {
   "cell_type": "code",
   "execution_count": 6,
   "metadata": {},
   "outputs": [],
   "source": [
    "def parse_vid(filename):\n",
    "    vid = imageio.get_reader(filename,  'ffmpeg')\n",
    "    fps = vid.get_meta_data()['fps']\n",
    "    num = 0\n",
    "    frames = []\n",
    "    while 1:\n",
    "        try:\n",
    "            image = vid.get_data(num)\n",
    "            frames.append(image)\n",
    "            num+=1\n",
    "        except IndexError:\n",
    "            break\n",
    "\n",
    "    return np.array(frames), fps"
   ]
  },
  {
   "cell_type": "code",
   "execution_count": 7,
   "metadata": {},
   "outputs": [],
   "source": [
    "def calc_diff(frames):\n",
    "    dif_lst = []\n",
    "    for i in range(1, frames.shape[0]):\n",
    "        dif_lst.append(frames[i-1,:,:]-frames[i,:,:])\n",
    "    return np.array(dif_lst)"
   ]
  },
  {
   "cell_type": "code",
   "execution_count": 8,
   "metadata": {},
   "outputs": [],
   "source": [
    "def comp_vid(frames):\n",
    "    enc_list= []\n",
    "    for frame in frames:\n",
    "        enc_list.append(comp_image(frame))\n",
    "    return np.array(enc_list)"
   ]
  },
  {
   "cell_type": "code",
   "execution_count": 9,
   "metadata": {
    "collapsed": true
   },
   "outputs": [],
   "source": [
    "def comp_image(frame):\n",
    "    cnt = 0\n",
    "    curr_el = frame[0,0]\n",
    "\n",
    "    encoded = []\n",
    "\n",
    "    for i in range(frame.shape[0]):\n",
    "        for j in range(frame.shape[1]):\n",
    "            if frame[i,j] == curr_el:\n",
    "                cnt += 1\n",
    "            else:\n",
    "                encoded.append('{0}!{1}'.format(curr_el, cnt))\n",
    "                curr_el = frame[i, j]\n",
    "                cnt = 1        \n",
    "\n",
    "    encoded.append('{0}!{1}'.format(curr_el, cnt))\n",
    "    return np.array(encoded)"
   ]
  },
  {
   "cell_type": "code",
   "execution_count": 10,
   "metadata": {
    "collapsed": true
   },
   "outputs": [],
   "source": [
    "def vid_encode(filename):\n",
    "    # parse RGB video\n",
    "    frames, fps = parse_vid(filename)\n",
    "    # convert to BW\n",
    "    bw_frames = VidConvertGrayScale(frames)\n",
    "    # calculate the frame difference matrix\n",
    "    diffs = calc_diff(bw_frames)\n",
    "    # quantize the matrix\n",
    "    q_diffs = QuantizeVid(diffs, Q=100)\n",
    "    # compress quantized matrix and 1st frame\n",
    "    q_diffs_comp = comp_vid(q_diffs)\n",
    "    img1_q = QuantizeImage(bw_frames[0,:,:])\n",
    "    first_img_comp = comp_image(img1_q)\n",
    "    \n",
    "    return first_img_comp, q_diffs_comp, bw_frames[0,:,:].shape, fps\n"
   ]
  },
  {
   "cell_type": "code",
   "execution_count": 11,
   "metadata": {},
   "outputs": [],
   "source": [
    "def decode_vid(frames, dims):\n",
    "    dec_list = []\n",
    "    for frame in frames:    \n",
    "        original_dimensions = dims\n",
    "        decoded = []\n",
    "\n",
    "        for i in frame:\n",
    "            symbol, count = i.split('!')\n",
    "            decoded.extend([float(symbol)]*int(count))   \n",
    "\n",
    "        dec = np.array(decoded, dtype=np.float64).reshape(original_dimensions)\n",
    "        dec_list.append(dec)\n",
    "    return np.array(dec_list)"
   ]
  },
  {
   "cell_type": "code",
   "execution_count": 12,
   "metadata": {
    "collapsed": true
   },
   "outputs": [],
   "source": [
    "def decode_image(frame, dims):\n",
    "    original_dimensions = dims\n",
    "    decoded = []\n",
    "\n",
    "    for i in frame:\n",
    "        symbol, count = i.split('!')\n",
    "        decoded.extend([float(symbol)]*int(count))   \n",
    "\n",
    "    decoded = np.array(decoded, dtype=np.float64).reshape(original_dimensions)\n",
    "    return np.array(decoded)"
   ]
  },
  {
   "cell_type": "code",
   "execution_count": 13,
   "metadata": {
    "collapsed": true
   },
   "outputs": [],
   "source": [
    "def reconstruct_vid(img1, diffs):\n",
    "    final_vid  = [img1]\n",
    "    cnt = 1\n",
    "    for frame in diffs:\n",
    "        final_vid.append(final_vid[-1]-frame)\n",
    "        \n",
    "    \n",
    "    return np.array(final_vid)"
   ]
  },
  {
   "cell_type": "code",
   "execution_count": 14,
   "metadata": {},
   "outputs": [],
   "source": [
    "def save_vid(frames, path, name, fps):\n",
    "    writer = imageio.get_writer(os.path.join(path,name), fps=fps,mode=\"I\")\n",
    "\n",
    "    for frame in frames:\n",
    "        writer.append_data(frame)\n",
    "    writer.close()"
   ]
  },
  {
   "cell_type": "code",
   "execution_count": 27,
   "metadata": {
    "collapsed": true
   },
   "outputs": [],
   "source": [
    "import pickle"
   ]
  },
  {
   "cell_type": "code",
   "execution_count": 28,
   "metadata": {},
   "outputs": [
    {
     "ename": "TypeError",
     "evalue": "file must have a 'write' attribute",
     "output_type": "error",
     "traceback": [
      "\u001b[1;31m---------------------------------------------------------------------------\u001b[0m",
      "\u001b[1;31mTypeError\u001b[0m                                 Traceback (most recent call last)",
      "\u001b[1;32m<ipython-input-28-a206c278779b>\u001b[0m in \u001b[0;36m<module>\u001b[1;34m()\u001b[0m\n\u001b[0;32m      1\u001b[0m \u001b[0mfirst_img_comp\u001b[0m \u001b[1;33m,\u001b[0m \u001b[0mq_diffs_comp\u001b[0m\u001b[1;33m,\u001b[0m \u001b[0mdims\u001b[0m\u001b[1;33m,\u001b[0m \u001b[0mfps\u001b[0m \u001b[1;33m=\u001b[0m \u001b[0mvid_encode\u001b[0m\u001b[1;33m(\u001b[0m\u001b[0mhomer_vid\u001b[0m\u001b[1;33m)\u001b[0m\u001b[1;33m\u001b[0m\u001b[0m\n\u001b[0;32m      2\u001b[0m \u001b[1;33m\u001b[0m\u001b[0m\n\u001b[1;32m----> 3\u001b[1;33m \u001b[0mpickle\u001b[0m\u001b[1;33m.\u001b[0m\u001b[0mdump\u001b[0m\u001b[1;33m(\u001b[0m\u001b[0mos\u001b[0m\u001b[1;33m.\u001b[0m\u001b[0mpath\u001b[0m\u001b[1;33m.\u001b[0m\u001b[0mjoin\u001b[0m\u001b[1;33m(\u001b[0m\u001b[0mresources_path\u001b[0m\u001b[1;33m,\u001b[0m\u001b[1;34m'img1.pckl'\u001b[0m\u001b[1;33m)\u001b[0m\u001b[1;33m,\u001b[0m \u001b[0mfirst_img_comp\u001b[0m\u001b[1;33m)\u001b[0m\u001b[1;33m\u001b[0m\u001b[0m\n\u001b[0m\u001b[0;32m      4\u001b[0m \u001b[0mpickle\u001b[0m\u001b[1;33m.\u001b[0m\u001b[0mdump\u001b[0m\u001b[1;33m(\u001b[0m\u001b[0mos\u001b[0m\u001b[1;33m.\u001b[0m\u001b[0mpath\u001b[0m\u001b[1;33m.\u001b[0m\u001b[0mjoin\u001b[0m\u001b[1;33m(\u001b[0m\u001b[0mresources_path\u001b[0m\u001b[1;33m,\u001b[0m\u001b[1;34m'qdiffs.pckl'\u001b[0m\u001b[1;33m)\u001b[0m\u001b[1;33m,\u001b[0m \u001b[0mq_diffs_comp\u001b[0m\u001b[1;33m)\u001b[0m\u001b[1;33m\u001b[0m\u001b[0m\n",
      "\u001b[1;31mTypeError\u001b[0m: file must have a 'write' attribute"
     ]
    }
   ],
   "source": [
    "first_img_comp , q_diffs_comp, dims, fps = vid_encode(homer_vid)\n",
    "\n",
    "pickle.dump(os.path.join(resources_path,'img1.pckl'), first_img_comp)\n",
    "pickle.dump(os.path.join(resources_path,'qdiffs.pckl'), q_diffs_comp)"
   ]
  },
  {
   "cell_type": "code",
   "execution_count": 21,
   "metadata": {
    "scrolled": false
   },
   "outputs": [
    {
     "name": "stderr",
     "output_type": "stream",
     "text": [
      "C:\\Users\\theotheo\\Anaconda3\\lib\\site-packages\\imageio\\core\\util.py:104: UserWarning: Conversion from float64 to uint8, range [26.2, 242.2]\n",
      "  'range [{2}, {3}]'.format(dtype_str, out_type.__name__, mi, ma))\n",
      "WARNING:root:IMAGEIO FFMPEG_WRITER WARNING: input image is not divisible by macro_block_size=16, resizing from (374, 500) to (384, 512) to ensure video compatibility with most codecs and players. To prevent resizing, make your input image divisible by the macro_block_size or set the macro_block_size to None (risking incompatibility). You may also see a FFMPEG warning concerning speedloss due to data not being aligned.\n",
      "C:\\Users\\theotheo\\Anaconda3\\lib\\site-packages\\imageio\\core\\util.py:104: UserWarning: Conversion from float64 to uint8, range [16.0, 249.6]\n",
      "  'range [{2}, {3}]'.format(dtype_str, out_type.__name__, mi, ma))\n",
      "C:\\Users\\theotheo\\Anaconda3\\lib\\site-packages\\imageio\\core\\util.py:104: UserWarning: Conversion from float64 to uint8, range [21.30000000000001, 248.0]\n",
      "  'range [{2}, {3}]'.format(dtype_str, out_type.__name__, mi, ma))\n",
      "C:\\Users\\theotheo\\Anaconda3\\lib\\site-packages\\imageio\\core\\util.py:104: UserWarning: Conversion from float64 to uint8, range [22.5, 250.8]\n",
      "  'range [{2}, {3}]'.format(dtype_str, out_type.__name__, mi, ma))\n",
      "C:\\Users\\theotheo\\Anaconda3\\lib\\site-packages\\imageio\\core\\util.py:104: UserWarning: Conversion from float64 to uint8, range [21.69999999999999, 247.5]\n",
      "  'range [{2}, {3}]'.format(dtype_str, out_type.__name__, mi, ma))\n",
      "C:\\Users\\theotheo\\Anaconda3\\lib\\site-packages\\imageio\\core\\util.py:104: UserWarning: Conversion from float64 to uint8, range [21.69999999999999, 251.3]\n",
      "  'range [{2}, {3}]'.format(dtype_str, out_type.__name__, mi, ma))\n",
      "C:\\Users\\theotheo\\Anaconda3\\lib\\site-packages\\imageio\\core\\util.py:104: UserWarning: Conversion from float64 to uint8, range [22.200000000000003, 249.3]\n",
      "  'range [{2}, {3}]'.format(dtype_str, out_type.__name__, mi, ma))\n",
      "C:\\Users\\theotheo\\Anaconda3\\lib\\site-packages\\imageio\\core\\util.py:104: UserWarning: Conversion from float64 to uint8, range [24.30000000000001, 250.2]\n",
      "  'range [{2}, {3}]'.format(dtype_str, out_type.__name__, mi, ma))\n",
      "C:\\Users\\theotheo\\Anaconda3\\lib\\site-packages\\imageio\\core\\util.py:104: UserWarning: Conversion from float64 to uint8, range [25.30000000000001, 249.5]\n",
      "  'range [{2}, {3}]'.format(dtype_str, out_type.__name__, mi, ma))\n",
      "C:\\Users\\theotheo\\Anaconda3\\lib\\site-packages\\imageio\\core\\util.py:104: UserWarning: Conversion from float64 to uint8, range [18.30000000000001, 249.7]\n",
      "  'range [{2}, {3}]'.format(dtype_str, out_type.__name__, mi, ma))\n",
      "C:\\Users\\theotheo\\Anaconda3\\lib\\site-packages\\imageio\\core\\util.py:104: UserWarning: Conversion from float64 to uint8, range [23.0, 247.5]\n",
      "  'range [{2}, {3}]'.format(dtype_str, out_type.__name__, mi, ma))\n",
      "C:\\Users\\theotheo\\Anaconda3\\lib\\site-packages\\imageio\\core\\util.py:104: UserWarning: Conversion from float64 to uint8, range [22.80000000000001, 244.4]\n",
      "  'range [{2}, {3}]'.format(dtype_str, out_type.__name__, mi, ma))\n",
      "C:\\Users\\theotheo\\Anaconda3\\lib\\site-packages\\imageio\\core\\util.py:104: UserWarning: Conversion from float64 to uint8, range [19.30000000000001, 243.3]\n",
      "  'range [{2}, {3}]'.format(dtype_str, out_type.__name__, mi, ma))\n",
      "C:\\Users\\theotheo\\Anaconda3\\lib\\site-packages\\imageio\\core\\util.py:104: UserWarning: Conversion from float64 to uint8, range [23.5, 249.8]\n",
      "  'range [{2}, {3}]'.format(dtype_str, out_type.__name__, mi, ma))\n",
      "C:\\Users\\theotheo\\Anaconda3\\lib\\site-packages\\imageio\\core\\util.py:104: UserWarning: Conversion from float64 to uint8, range [25.5, 246.0]\n",
      "  'range [{2}, {3}]'.format(dtype_str, out_type.__name__, mi, ma))\n",
      "C:\\Users\\theotheo\\Anaconda3\\lib\\site-packages\\imageio\\core\\util.py:104: UserWarning: Conversion from float64 to uint8, range [21.30000000000001, 248.3]\n",
      "  'range [{2}, {3}]'.format(dtype_str, out_type.__name__, mi, ma))\n",
      "C:\\Users\\theotheo\\Anaconda3\\lib\\site-packages\\imageio\\core\\util.py:104: UserWarning: Conversion from float64 to uint8, range [22.30000000000001, 244.3]\n",
      "  'range [{2}, {3}]'.format(dtype_str, out_type.__name__, mi, ma))\n",
      "C:\\Users\\theotheo\\Anaconda3\\lib\\site-packages\\imageio\\core\\util.py:104: UserWarning: Conversion from float64 to uint8, range [26.19999999999999, 249.3]\n",
      "  'range [{2}, {3}]'.format(dtype_str, out_type.__name__, mi, ma))\n",
      "C:\\Users\\theotheo\\Anaconda3\\lib\\site-packages\\imageio\\core\\util.py:104: UserWarning: Conversion from float64 to uint8, range [24.099999999999994, 247.2]\n",
      "  'range [{2}, {3}]'.format(dtype_str, out_type.__name__, mi, ma))\n",
      "C:\\Users\\theotheo\\Anaconda3\\lib\\site-packages\\imageio\\core\\util.py:104: UserWarning: Conversion from float64 to uint8, range [18.19999999999999, 249.3]\n",
      "  'range [{2}, {3}]'.format(dtype_str, out_type.__name__, mi, ma))\n",
      "C:\\Users\\theotheo\\Anaconda3\\lib\\site-packages\\imageio\\core\\util.py:104: UserWarning: Conversion from float64 to uint8, range [23.30000000000001, 242.3]\n",
      "  'range [{2}, {3}]'.format(dtype_str, out_type.__name__, mi, ma))\n",
      "C:\\Users\\theotheo\\Anaconda3\\lib\\site-packages\\imageio\\core\\util.py:104: UserWarning: Conversion from float64 to uint8, range [20.30000000000001, 245.8]\n",
      "  'range [{2}, {3}]'.format(dtype_str, out_type.__name__, mi, ma))\n",
      "C:\\Users\\theotheo\\Anaconda3\\lib\\site-packages\\imageio\\core\\util.py:104: UserWarning: Conversion from float64 to uint8, range [23.30000000000001, 241.8]\n",
      "  'range [{2}, {3}]'.format(dtype_str, out_type.__name__, mi, ma))\n",
      "C:\\Users\\theotheo\\Anaconda3\\lib\\site-packages\\imageio\\core\\util.py:104: UserWarning: Conversion from float64 to uint8, range [26.0, 245.4]\n",
      "  'range [{2}, {3}]'.format(dtype_str, out_type.__name__, mi, ma))\n",
      "C:\\Users\\theotheo\\Anaconda3\\lib\\site-packages\\imageio\\core\\util.py:104: UserWarning: Conversion from float64 to uint8, range [23.69999999999999, 247.0]\n",
      "  'range [{2}, {3}]'.format(dtype_str, out_type.__name__, mi, ma))\n",
      "C:\\Users\\theotheo\\Anaconda3\\lib\\site-packages\\imageio\\core\\util.py:104: UserWarning: Conversion from float64 to uint8, range [26.19999999999999, 204.6]\n",
      "  'range [{2}, {3}]'.format(dtype_str, out_type.__name__, mi, ma))\n",
      "C:\\Users\\theotheo\\Anaconda3\\lib\\site-packages\\imageio\\core\\util.py:104: UserWarning: Conversion from float64 to uint8, range [29.099999999999994, 205.5]\n",
      "  'range [{2}, {3}]'.format(dtype_str, out_type.__name__, mi, ma))\n",
      "C:\\Users\\theotheo\\Anaconda3\\lib\\site-packages\\imageio\\core\\util.py:104: UserWarning: Conversion from float64 to uint8, range [26.69999999999999, 208.7]\n",
      "  'range [{2}, {3}]'.format(dtype_str, out_type.__name__, mi, ma))\n",
      "C:\\Users\\theotheo\\Anaconda3\\lib\\site-packages\\imageio\\core\\util.py:104: UserWarning: Conversion from float64 to uint8, range [25.69999999999999, 192.2]\n",
      "  'range [{2}, {3}]'.format(dtype_str, out_type.__name__, mi, ma))\n"
     ]
    }
   ],
   "source": [
    "img1 = decode_image(first_img_comp, dims)\n",
    "diffs = decode_vid(q_diffs_comp, dims)\n",
    "tmp2 = reconstruct_vid(img1, diffs)\n",
    "\n",
    "save_vid(tmp2,resources_path,'homer_bw_final_10.mp4', fps)"
   ]
  }
 ],
 "metadata": {
  "kernelspec": {
   "display_name": "Python 3",
   "language": "python",
   "name": "python3"
  },
  "language_info": {
   "codemirror_mode": {
    "name": "ipython",
    "version": 3
   },
   "file_extension": ".py",
   "mimetype": "text/x-python",
   "name": "python",
   "nbconvert_exporter": "python",
   "pygments_lexer": "ipython3",
   "version": "3.6.3"
  }
 },
 "nbformat": 4,
 "nbformat_minor": 2
}
