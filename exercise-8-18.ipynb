{
 "cells": [
  {
   "cell_type": "code",
   "execution_count": 47,
   "metadata": {
    "collapsed": true
   },
   "outputs": [],
   "source": [
    "%matplotlib inline\n",
    "\n",
    "import imageio\n",
    "import numpy as np\n",
    "import matplotlib.pyplot as plt\n",
    "import os\n",
    "import pandas as pd"
   ]
  },
  {
   "cell_type": "markdown",
   "metadata": {},
   "source": [
    "## FUNCTIONS"
   ]
  },
  {
   "cell_type": "code",
   "execution_count": 3,
   "metadata": {
    "collapsed": true
   },
   "outputs": [],
   "source": [
    "def readVideoFrames(filename):\n",
    "    vid = imageio.get_reader(filename,  'ffmpeg')\n",
    "    fps = vid.get_meta_data()['fps']\n",
    "    num = 0\n",
    "    frames = []\n",
    "    while 1:\n",
    "        try:\n",
    "            image = vid.get_data(num)\n",
    "            frames.append(image)\n",
    "            num+=1\n",
    "        except IndexError:\n",
    "            break\n",
    "\n",
    "    return np.array(frames), fps"
   ]
  },
  {
   "cell_type": "code",
   "execution_count": 4,
   "metadata": {
    "collapsed": true
   },
   "outputs": [],
   "source": [
    "def makeGrayScale(rgbVid):\n",
    "    '''Converts numpy array vid to grayscale vid'''\n",
    "    frames_bw = []\n",
    "    for frame in rgbVid:\n",
    "        frames_bw.append(np.around(np.dot(frame[:,:,:3], [0.2989, 0.587, 0.114])))\n",
    "    return np.array(frames_bw)"
   ]
  },
  {
   "cell_type": "code",
   "execution_count": 5,
   "metadata": {
    "collapsed": true
   },
   "outputs": [],
   "source": [
    "def calculateDifferenceFrames(frames):\n",
    "    dif_lst = []\n",
    "    for i in range(1, frames.shape[0]):\n",
    "        dif_lst.append(frames[i-1,:,:]-frames[i,:,:])\n",
    "    return np.array(dif_lst)"
   ]
  },
  {
   "cell_type": "code",
   "execution_count": 6,
   "metadata": {
    "collapsed": true
   },
   "outputs": [],
   "source": [
    "def divideToMacroblocks(frame, macroblock_size=16):\n",
    "    macroblocks = []\n",
    "    m, n = frame.shape\n",
    "    for i in range(0, m, macroblock_size):\n",
    "        for j in range(0, n, macroblock_size):\n",
    "            macroblock = frame[i:i+macroblock_size,j:j+macroblock_size]\n",
    "    #         print (macroblock.shape)\n",
    "            if macroblock.shape == (macroblock_size, macroblock_size):\n",
    "    #             print ('works')\n",
    "                macroblocks.append(macroblock)\n",
    "            else:\n",
    "    #             print ('something\\'s goin\\' on')\n",
    "                try:\n",
    "                    macroblock = np.vstack((macroblock, np.zeros(macroblock.shape[0], macroblock_size-macroblock.shape[1])))\n",
    "                except TypeError:\n",
    "                    pass\n",
    "                try:\n",
    "                    macroblock = np.hstack((macroblock, np.zeros(macroblock_size-macroblock.shape[0], macroblock.shape[1])))\n",
    "                except TypeError:\n",
    "                    pass\n",
    "                macroblocks.append(macroblock)\n",
    "    return np.array(macroblocks).reshape((int(m/macroblock_size), int(n/macroblock_size), macroblock_size, macroblock_size))"
   ]
  },
  {
   "cell_type": "code",
   "execution_count": 7,
   "metadata": {
    "collapsed": true
   },
   "outputs": [],
   "source": [
    "def createNeighborhood(referenceFrame, indexOfMacroblock, macroblock_size=16, k=16):\n",
    "    neighborhood = []\n",
    "#     print (indexOfMacroblock)\n",
    "    for i in range(indexOfMacroblock[0]-k, indexOfMacroblock[0]+k+1, k):\n",
    "        for j in range(indexOfMacroblock[1]-k, indexOfMacroblock[1]+k+1, k):\n",
    "            if (i >= 0 and j >= 0 and i+macroblock_size < referenceFrame.shape[0] and j+macroblock_size < referenceFrame.shape[1]):\n",
    "#                 print (i,j)\n",
    "                neighborhood.append(referenceFrame[i:i+macroblock_size, j:j+macroblock_size])\n",
    "            else:\n",
    "                neighborhood += [None]\n",
    "    return neighborhood"
   ]
  },
  {
   "cell_type": "code",
   "execution_count": 8,
   "metadata": {
    "collapsed": true
   },
   "outputs": [],
   "source": [
    "def SAD(referenceMacroblock, targetMacroblock):\n",
    "#     print (targetMacroblock.shape, referenceMacroblock.shape)\n",
    "    return np.sum(np.abs(targetMacroblock - referenceMacroblock))"
   ]
  },
  {
   "cell_type": "code",
   "execution_count": 9,
   "metadata": {
    "collapsed": true
   },
   "outputs": [],
   "source": [
    "def calculateSAD(targetMacroblock, referenceFrame_neighbor_macroblocks):\n",
    "    SADvals = []\n",
    "        \n",
    "    for macroblock in referenceFrame_neighbor_macroblocks:\n",
    "        if macroblock is not None:\n",
    "            SADvals.append(SAD(macroblock, targetMacroblock))\n",
    "        else:\n",
    "            SADvals.append(np.Inf)\n",
    "    \n",
    "    return np.array(SADvals).reshape((3,3))"
   ]
  },
  {
   "cell_type": "code",
   "execution_count": 10,
   "metadata": {
    "collapsed": true
   },
   "outputs": [],
   "source": [
    "def logarithmicSearch(referenceFrame, targetMacroblock, indexOfMacroblock, macroblock_size=16, k=16):\n",
    "    if (k == 0):\n",
    "        return indexOfMacroblock, referenceFrame[indexOfMacroblock[0]:indexOfMacroblock[0]+macroblock_size, indexOfMacroblock[1]:indexOfMacroblock[1]+macroblock_size] # motionVector END (To_WIDTH, To_HEIGHT), return Predicted Frame\n",
    "    \n",
    "    referenceFrame_neighbor_macroblocks = createNeighborhood(referenceFrame, indexOfMacroblock, macroblock_size, k)\n",
    "\n",
    "    SAD_values = calculateSAD(targetMacroblock, referenceFrame_neighbor_macroblocks)\n",
    "#     print (SAD_values)\n",
    "    indexofMinimumSAD = divmod(SAD_values.argmin(), SAD_values.shape[1])\n",
    "    newIndexOfMacroblock = list(indexOfMacroblock)\n",
    "    \n",
    "    if (indexofMinimumSAD[0] == 0):\n",
    "        newIndexOfMacroblock[0] = indexOfMacroblock[0] - k\n",
    "    elif (indexofMinimumSAD[0] == 2):\n",
    "        newIndexOfMacroblock[0] = indexOfMacroblock[0] + k\n",
    "    \n",
    "    if (indexofMinimumSAD[1] == 0):\n",
    "        newIndexOfMacroblock[1] = indexOfMacroblock[1] - k\n",
    "    elif (indexofMinimumSAD[1] == 2):\n",
    "        newIndexOfMacroblock[1] = indexOfMacroblock[1] + k\n",
    "\n",
    "    if (indexofMinimumSAD[0] == 1 and indexofMinimumSAD[1] == 1):\n",
    "        newK = k//2\n",
    "    else:\n",
    "        newK = k       \n",
    "#     print (indexofMinimumSAD)\n",
    "#     print (newIndexOfMacroblock)\n",
    "    return logarithmicSearch(referenceFrame, targetMacroblock, tuple(newIndexOfMacroblock), macroblock_size, newK)"
   ]
  },
  {
   "cell_type": "code",
   "execution_count": 11,
   "metadata": {
    "collapsed": true
   },
   "outputs": [],
   "source": [
    "def motionCompensation(referenceFrame, targetFrame, macroblock_size=16):\n",
    "    predictedBlocks = []\n",
    "    motionVectors = []\n",
    "    \n",
    "    targetMacroblocks = divideToMacroblocks(targetFrame, macroblock_size)\n",
    "    for i in range(targetMacroblocks.shape[0]):\n",
    "        for j in range(targetMacroblocks.shape[1]):\n",
    "            motionVectorSTART = (i*macroblock_size, j*macroblock_size)\n",
    "            indexofBlock = (i*macroblock_size, j*macroblock_size)\n",
    "            motionVectorEND, prediction = logarithmicSearch(referenceFrame, targetMacroblocks[i,j,:,:], indexofBlock)\n",
    "            predictedBlocks.append(prediction)\n",
    "            motionVectors.append(motionVectorSTART+motionVectorEND)\n",
    "\n",
    "#     print (len(motionVectors))\n",
    "    predictedBlocks = np.array(predictedBlocks).reshape(targetMacroblocks.shape)\n",
    "    motionVectors = np.array(motionVectors, dtype=(int,4)).reshape((targetMacroblocks.shape[0], targetMacroblocks.shape[1], 4))\n",
    "    return predictedBlocks, motionVectors"
   ]
  },
  {
   "cell_type": "code",
   "execution_count": 12,
   "metadata": {
    "collapsed": true
   },
   "outputs": [],
   "source": [
    "def imageReconstructFromBlocks(blocks):\n",
    "    lines = []\n",
    "    for i in range(blocks.shape[0]):\n",
    "        line = []\n",
    "        for j in range(blocks.shape[1]):\n",
    "            line.append(blocks[i,j,:,:])\n",
    "        line = np.hstack(line)\n",
    "        lines.append(line)\n",
    "    return np.vstack(lines)"
   ]
  },
  {
   "cell_type": "code",
   "execution_count": 199,
   "metadata": {},
   "outputs": [],
   "source": [
    "def find_moving_object(lst): #V2 - the input arguments have changed!!!\n",
    "    X = np.array(lst)\n",
    "    q25_75 = np.array([])\n",
    "    \n",
    "    outliers_list_batch = []\n",
    "    \n",
    "    if len(X.shape) ==1:\n",
    "        X = X.reshape((X.shape[0],1))\n",
    "\n",
    "\n",
    "    if not q25_75.any():\n",
    "        q25_75 = np.zeros((X.shape[1],2))\t#V3 - changed X.shape[0] to X.shape[1]\n",
    "    for line in range(X.shape[1]):\n",
    "    #     if line%300==0:\n",
    "    #         print 'lines processed: ', line, ' out of ', X.shape[1]\n",
    "        x = X[:,line].copy()        \n",
    "        outliers_list = []\n",
    "\n",
    "        if sum(abs(x))!=0:\n",
    "            q25=q25_75[line,0]\n",
    "            q75=q25_75[line,1]\n",
    "\n",
    "            if (q25==0) & (q75==0):\n",
    "                q75, q25 = np.percentile(x[x!=0], [75,25])\n",
    "\n",
    "            iqr = q75 - q25\n",
    "            outl = np.argwhere(abs(x)>q75+3*iqr)\n",
    "            outliers = group_consecutives(outl)\n",
    "            for ll in outliers:\n",
    "                if ll:\n",
    "                    current = int(ll[0][0]),int(ll[-1][0])\n",
    "                    outliers_list.append(current)        \n",
    "        else:\n",
    "            outliers_list.append([])\n",
    "            q75 = 0\n",
    "            q25 = 0\n",
    "\n",
    "        outliers_list_batch.append(outliers_list)\n",
    "        q25_75[line,:] = [q25,q75]\n",
    "        \n",
    "    fn_lst = []\n",
    "    for i in range(outliers_list_batch[0][0][0], outliers_list_batch[0][0][1]):\n",
    "        fn_lst.append(tuple(lst[i][1:]))\n",
    "    # print 'done.'\n",
    "    return fn_lst"
   ]
  },
  {
   "cell_type": "code",
   "execution_count": 98,
   "metadata": {
    "collapsed": true
   },
   "outputs": [],
   "source": [
    "def group_consecutives(vals, step=1):\n",
    "    \"\"\"Return list of consecutive lists of numbers from vals (number list).\"\"\"\n",
    "    run = []\n",
    "    result = [run]\n",
    "    expect = None\n",
    "    for v in vals:\n",
    "        if (v == expect) or (expect is None):\n",
    "            run.append(v)\n",
    "        else:\n",
    "            run = [v]\n",
    "            result.append(run)\n",
    "        expect = v + step\n",
    "    return result"
   ]
  },
  {
   "cell_type": "code",
   "execution_count": 136,
   "metadata": {
    "collapsed": true
   },
   "outputs": [],
   "source": [
    "def make_var_list(mbs):\n",
    "    lst = []\n",
    "    for y, macby in enumerate(mbs):\n",
    "        for x, macbx in enumerate(macby):\n",
    "            lst.append((max(pd.DataFrame(macbx).var()), y, x))\n",
    "            \n",
    "    return lst"
   ]
  },
  {
   "cell_type": "code",
   "execution_count": 172,
   "metadata": {
    "collapsed": true
   },
   "outputs": [],
   "source": [
    "def swap_object(x_and_y, frame, back):\n",
    "    tmp = frame\n",
    "    for tup in x_and_y:\n",
    "        y,x = tup\n",
    "        tmp[y][x] = back[y][x]\n",
    "        \n",
    "    return tmp"
   ]
  },
  {
   "cell_type": "code",
   "execution_count": 173,
   "metadata": {
    "collapsed": true
   },
   "outputs": [],
   "source": [
    "def reconstruct_vid(img1, diffs):\n",
    "    final_vid  = [img1]\n",
    "    cnt = 1\n",
    "    for frame in diffs:\n",
    "        final_vid.append(final_vid[-1]-frame)\n",
    "        \n",
    "    \n",
    "    return np.array(final_vid)"
   ]
  },
  {
   "cell_type": "code",
   "execution_count": 196,
   "metadata": {},
   "outputs": [],
   "source": [
    "def find_obj(diff):\n",
    "    mc = divideToMacroblocks(diff,32)\n",
    "    lst = make_var_list(mc)\n",
    "    lst.sort(key=lambda x: x[0])\n",
    "    outs = find_moving_object(lst)\n",
    "    return outs"
   ]
  },
  {
   "cell_type": "markdown",
   "metadata": {},
   "source": [
    "## Main"
   ]
  },
  {
   "cell_type": "code",
   "execution_count": 157,
   "metadata": {
    "collapsed": true
   },
   "outputs": [],
   "source": [
    "hall_monitor_cif = \"resources/ex617/hall_monitor_cif.y4m\"\n",
    "resources_path = \"resources/ex818\""
   ]
  },
  {
   "cell_type": "code",
   "execution_count": 158,
   "metadata": {
    "collapsed": true
   },
   "outputs": [],
   "source": [
    "videoFrames, fps = readVideoFrames(hall_monitor_cif)"
   ]
  },
  {
   "cell_type": "code",
   "execution_count": 159,
   "metadata": {
    "scrolled": true
   },
   "outputs": [
    {
     "data": {
      "text/plain": [
       "(300, 288, 352, 3)"
      ]
     },
     "execution_count": 159,
     "metadata": {},
     "output_type": "execute_result"
    }
   ],
   "source": [
    "videoFramesSample = videoFrames[:, :, :, :]\n",
    "videoFramesSample.shape"
   ]
  },
  {
   "cell_type": "code",
   "execution_count": 160,
   "metadata": {},
   "outputs": [
    {
     "data": {
      "text/plain": [
       "(300, 288, 352)"
      ]
     },
     "execution_count": 160,
     "metadata": {},
     "output_type": "execute_result"
    }
   ],
   "source": [
    "videoFramesSample = makeGrayScale(videoFramesSample)\n",
    "videoFramesSample.shape"
   ]
  },
  {
   "cell_type": "code",
   "execution_count": null,
   "metadata": {
    "collapsed": true
   },
   "outputs": [],
   "source": []
  },
  {
   "cell_type": "code",
   "execution_count": 200,
   "metadata": {},
   "outputs": [
    {
     "ename": "IndexError",
     "evalue": "list index out of range",
     "output_type": "error",
     "traceback": [
      "\u001b[1;31m---------------------------------------------------------------------------\u001b[0m",
      "\u001b[1;31mIndexError\u001b[0m                                Traceback (most recent call last)",
      "\u001b[1;32m<ipython-input-200-024620e249ac>\u001b[0m in \u001b[0;36m<module>\u001b[1;34m()\u001b[0m\n\u001b[0;32m      3\u001b[0m \u001b[0mFrameDifferenceSample\u001b[0m \u001b[1;33m=\u001b[0m \u001b[0mcalculateDifferenceFrames\u001b[0m\u001b[1;33m(\u001b[0m\u001b[0mvideoFramesSample\u001b[0m\u001b[1;33m)\u001b[0m\u001b[1;33m\u001b[0m\u001b[0m\n\u001b[0;32m      4\u001b[0m \u001b[1;32mfor\u001b[0m \u001b[0mcnt\u001b[0m\u001b[1;33m,\u001b[0m \u001b[0mframe\u001b[0m \u001b[1;32min\u001b[0m \u001b[0menumerate\u001b[0m\u001b[1;33m(\u001b[0m\u001b[0mFrameDifferenceSample\u001b[0m\u001b[1;33m)\u001b[0m\u001b[1;33m:\u001b[0m\u001b[1;33m\u001b[0m\u001b[0m\n\u001b[1;32m----> 5\u001b[1;33m     \u001b[0mmoving_mbs\u001b[0m \u001b[1;33m=\u001b[0m \u001b[0mfind_obj\u001b[0m\u001b[1;33m(\u001b[0m\u001b[0mframe\u001b[0m\u001b[1;33m)\u001b[0m\u001b[1;33m\u001b[0m\u001b[0m\n\u001b[0m\u001b[0;32m      6\u001b[0m \u001b[1;33m\u001b[0m\u001b[0m\n\u001b[0;32m      7\u001b[0m     \u001b[0mmb_new\u001b[0m \u001b[1;33m=\u001b[0m \u001b[0mdivideToMacroblocks\u001b[0m\u001b[1;33m(\u001b[0m\u001b[0mvideoFramesSample\u001b[0m\u001b[1;33m[\u001b[0m\u001b[0mcnt\u001b[0m\u001b[1;33m+\u001b[0m\u001b[1;36m1\u001b[0m\u001b[1;33m]\u001b[0m\u001b[1;33m,\u001b[0m\u001b[1;36m32\u001b[0m\u001b[1;33m)\u001b[0m\u001b[1;33m\u001b[0m\u001b[0m\n",
      "\u001b[1;32m<ipython-input-196-acc2efbbd9c8>\u001b[0m in \u001b[0;36mfind_obj\u001b[1;34m(diff)\u001b[0m\n\u001b[0;32m      3\u001b[0m     \u001b[0mlst\u001b[0m \u001b[1;33m=\u001b[0m \u001b[0mmake_var_list\u001b[0m\u001b[1;33m(\u001b[0m\u001b[0mmc\u001b[0m\u001b[1;33m)\u001b[0m\u001b[1;33m\u001b[0m\u001b[0m\n\u001b[0;32m      4\u001b[0m     \u001b[0mlst\u001b[0m\u001b[1;33m.\u001b[0m\u001b[0msort\u001b[0m\u001b[1;33m(\u001b[0m\u001b[0mkey\u001b[0m\u001b[1;33m=\u001b[0m\u001b[1;32mlambda\u001b[0m \u001b[0mx\u001b[0m\u001b[1;33m:\u001b[0m \u001b[0mx\u001b[0m\u001b[1;33m[\u001b[0m\u001b[1;36m0\u001b[0m\u001b[1;33m]\u001b[0m\u001b[1;33m)\u001b[0m\u001b[1;33m\u001b[0m\u001b[0m\n\u001b[1;32m----> 5\u001b[1;33m     \u001b[0mouts\u001b[0m \u001b[1;33m=\u001b[0m \u001b[0mfind_moving_object\u001b[0m\u001b[1;33m(\u001b[0m\u001b[0mlst\u001b[0m\u001b[1;33m)\u001b[0m\u001b[1;33m\u001b[0m\u001b[0m\n\u001b[0m\u001b[0;32m      6\u001b[0m     \u001b[1;32mreturn\u001b[0m \u001b[0mouts\u001b[0m\u001b[1;33m\u001b[0m\u001b[0m\n",
      "\u001b[1;32m<ipython-input-199-d8b0736776a4>\u001b[0m in \u001b[0;36mfind_moving_object\u001b[1;34m(lst)\u001b[0m\n\u001b[0;32m     40\u001b[0m \u001b[1;33m\u001b[0m\u001b[0m\n\u001b[0;32m     41\u001b[0m     \u001b[0mfn_lst\u001b[0m \u001b[1;33m=\u001b[0m \u001b[1;33m[\u001b[0m\u001b[1;33m]\u001b[0m\u001b[1;33m\u001b[0m\u001b[0m\n\u001b[1;32m---> 42\u001b[1;33m     \u001b[1;32mfor\u001b[0m \u001b[0mi\u001b[0m \u001b[1;32min\u001b[0m \u001b[0mrange\u001b[0m\u001b[1;33m(\u001b[0m\u001b[0moutliers_list_batch\u001b[0m\u001b[1;33m[\u001b[0m\u001b[1;36m0\u001b[0m\u001b[1;33m]\u001b[0m\u001b[1;33m[\u001b[0m\u001b[1;36m0\u001b[0m\u001b[1;33m]\u001b[0m\u001b[1;33m[\u001b[0m\u001b[1;36m0\u001b[0m\u001b[1;33m]\u001b[0m\u001b[1;33m,\u001b[0m \u001b[0moutliers_list_batch\u001b[0m\u001b[1;33m[\u001b[0m\u001b[1;36m0\u001b[0m\u001b[1;33m]\u001b[0m\u001b[1;33m[\u001b[0m\u001b[1;36m0\u001b[0m\u001b[1;33m]\u001b[0m\u001b[1;33m[\u001b[0m\u001b[1;36m1\u001b[0m\u001b[1;33m]\u001b[0m\u001b[1;33m)\u001b[0m\u001b[1;33m:\u001b[0m\u001b[1;33m\u001b[0m\u001b[0m\n\u001b[0m\u001b[0;32m     43\u001b[0m         \u001b[0mfn_lst\u001b[0m\u001b[1;33m.\u001b[0m\u001b[0mappend\u001b[0m\u001b[1;33m(\u001b[0m\u001b[0mtuple\u001b[0m\u001b[1;33m(\u001b[0m\u001b[0mlst\u001b[0m\u001b[1;33m[\u001b[0m\u001b[0mi\u001b[0m\u001b[1;33m]\u001b[0m\u001b[1;33m[\u001b[0m\u001b[1;36m1\u001b[0m\u001b[1;33m:\u001b[0m\u001b[1;33m]\u001b[0m\u001b[1;33m)\u001b[0m\u001b[1;33m)\u001b[0m\u001b[1;33m\u001b[0m\u001b[0m\n\u001b[0;32m     44\u001b[0m     \u001b[1;31m# print 'done.'\u001b[0m\u001b[1;33m\u001b[0m\u001b[1;33m\u001b[0m\u001b[0m\n",
      "\u001b[1;31mIndexError\u001b[0m: list index out of range"
     ]
    }
   ],
   "source": [
    "finalVideoFramesSample = [videoFramesSample[0]]\n",
    "mb_back = divideToMacroblocks(videoFramesSample[0], 32)\n",
    "FrameDifferenceSample = calculateDifferenceFrames(videoFramesSample)\n",
    "for cnt, frame in enumerate(FrameDifferenceSample):\n",
    "    moving_mbs = find_obj(frame)\n",
    "    \n",
    "    mb_new = divideToMacroblocks(videoFramesSample[cnt+1],32)\n",
    "    new_frame = swap_object(moving_mbs,mb_new, mb_back)\n",
    "    final_img = imageReconstructFromBlocks(new_frame)\n",
    "    finalVideoFramesSample.append(final_img)\n"
   ]
  },
  {
   "cell_type": "code",
   "execution_count": 185,
   "metadata": {},
   "outputs": [
    {
     "data": {
      "text/plain": [
       "<matplotlib.image.AxesImage at 0x2799a665438>"
      ]
     },
     "execution_count": 185,
     "metadata": {},
     "output_type": "execute_result"
    },
    {
     "data": {
      "image/png": "[encoded data removed]",
      "text/plain": [
       "<matplotlib.figure.Figure at 0x2799a6bbc50>"
      ]
     },
     "metadata": {},
     "output_type": "display_data"
    }
   ],
   "source": [
    "plt.imshow(finalVideoFramesSample[50], cmap='gray')"
   ]
  },
  {
   "cell_type": "code",
   "execution_count": null,
   "metadata": {
    "collapsed": true
   },
   "outputs": [],
   "source": []
  },
  {
   "cell_type": "code",
   "execution_count": 166,
   "metadata": {},
   "outputs": [
    {
     "data": {
      "text/plain": [
       "[(5, 0),\n",
       " (8, 0),\n",
       " (1, 21),\n",
       " (17, 20),\n",
       " (17, 0),\n",
       " (2, 21),\n",
       " (17, 21),\n",
       " (4, 21),\n",
       " (3, 21)]"
      ]
     },
     "execution_count": 166,
     "metadata": {},
     "output_type": "execute_result"
    }
   ],
   "source": [
    "moving_mbs"
   ]
  },
  {
   "cell_type": "markdown",
   "metadata": {},
   "source": [
    "compensatedVideoFramesSample = [videoFramesSample[0]]\n",
    "motionVectors = []\n",
    "cnt = 1\n",
    "for prevFrame, nextFrame in zip(videoFramesSample, videoFramesSample[1:]):\n",
    "    \n",
    "    prediction, vectors = motionCompensation(prevFrame, nextFrame)\n",
    "    diff = compensatedVideoFramesSample[-1]-imageReconstructFromBlocks(prediction)\n",
    "    \n",
    "    mcbs = divideToMacroblocks(diff)\n",
    "    npred = swap_object(find_moving_object(mcbs), prediction, compensatedVideoFramesSample[0])\n",
    "    \n",
    "    predFrame = imageReconstructFromBlocks(npred)\n",
    "    compensatedVideoFramesSample.append(predFrame)\n",
    "    motionVectors.append(vectors) \n",
    "    if cnt == 6:\n",
    "        break\n",
    "    else:\n",
    "        cnt+=1\n",
    "    "
   ]
  },
  {
   "cell_type": "code",
   "execution_count": 195,
   "metadata": {},
   "outputs": [
    {
     "name": "stderr",
     "output_type": "stream",
     "text": [
      "C:\\Users\\theotheo\\Anaconda3\\lib\\site-packages\\imageio\\core\\util.py:104: UserWarning: Conversion from float64 to uint8, range [0.0, 255.0]\n",
      "  'range [{2}, {3}]'.format(dtype_str, out_type.__name__, mi, ma))\n"
     ]
    }
   ],
   "source": [
    "writer = imageio.get_writer(os.path.join(resources_path,'hall_monitor_cif_exafanizol2.mp4'), fps=fps,mode=\"I\")\n",
    "\n",
    "for frame in finalVideoFramesSample:\n",
    "    writer.append_data(frame)\n",
    "writer.close()"
   ]
  },
  {
   "cell_type": "code",
   "execution_count": 129,
   "metadata": {
    "collapsed": true
   },
   "outputs": [],
   "source": [
    "tmp = compensatedVideoFramesSample[51]- compensatedVideoFramesSample[50]"
   ]
  },
  {
   "cell_type": "code",
   "execution_count": 130,
   "metadata": {},
   "outputs": [
    {
     "data": {
      "text/plain": [
       "<matplotlib.image.AxesImage at 0x2799ac9ae10>"
      ]
     },
     "execution_count": 130,
     "metadata": {},
     "output_type": "execute_result"
    },
    {
     "data": {
      "image/png": "[encoded data removed]",
      "text/plain": [
       "<matplotlib.figure.Figure at 0x2799aac7e80>"
      ]
     },
     "metadata": {},
     "output_type": "display_data"
    }
   ],
   "source": [
    "plt.imshow(tmp)"
   ]
  },
  {
   "cell_type": "code",
   "execution_count": 131,
   "metadata": {
    "collapsed": true
   },
   "outputs": [],
   "source": [
    "mc = divideToMacroblocks(tmp)"
   ]
  },
  {
   "cell_type": "code",
   "execution_count": 137,
   "metadata": {
    "collapsed": true
   },
   "outputs": [],
   "source": [
    "lst = make_var_list(mc)"
   ]
  },
  {
   "cell_type": "code",
   "execution_count": 138,
   "metadata": {},
   "outputs": [
    {
     "data": {
      "text/plain": [
       "[(286.06666666666666, 0, 0),\n",
       " (9.3625000000000007, 0, 1),\n",
       " (7.395833333333333, 0, 2),\n",
       " (26.462499999999999, 0, 3),\n",
       " (40.862499999999997, 0, 4),\n",
       " (97.400000000000006, 0, 5),\n",
       " (88.729166666666671, 0, 6),\n",
       " (76.11666666666666, 0, 7),\n",
       " (10.466666666666667, 0, 8),\n",
       " (12.783333333333333, 0, 9),\n",
       " (13.095833333333333, 0, 10),\n",
       " (13.0625, 0, 11),\n",
       " (15.583333333333334, 0, 12),\n",
       " (16.262499999999999, 0, 13),\n",
       " (18.729166666666668, 0, 14),\n",
       " (15.862500000000001, 0, 15),\n",
       " (17.449999999999999, 0, 16),\n",
       " (14.695833333333333, 0, 17),\n",
       " (15.929166666666667, 0, 18),\n",
       " (11.133333333333333, 0, 19),\n",
       " (9.5999999999999996, 0, 20),\n",
       " (9.6958333333333329, 0, 21),\n",
       " (51.850000000000001, 1, 0),\n",
       " (11.4, 1, 1),\n",
       " (13.5625, 1, 2),\n",
       " (14.262499999999999, 1, 3),\n",
       " (32.466666666666669, 1, 4),\n",
       " (87.92916666666666, 1, 5),\n",
       " (78.13333333333334, 1, 6),\n",
       " (76.799999999999997, 1, 7),\n",
       " (17.449999999999999, 1, 8),\n",
       " (0.0625, 1, 9),\n",
       " (13.0, 1, 10),\n",
       " (12.199999999999999, 1, 11),\n",
       " (12.199999999999999, 1, 12),\n",
       " (10.383333333333333, 1, 13),\n",
       " (12.800000000000001, 1, 14),\n",
       " (8.5166666666666675, 1, 15),\n",
       " (13.362500000000001, 1, 16),\n",
       " (12.4, 1, 17),\n",
       " (16.800000000000001, 1, 18),\n",
       " (7.4500000000000002, 1, 19),\n",
       " (1.0291666666666666, 1, 20),\n",
       " (0.0, 1, 21),\n",
       " (141.16249999999999, 2, 0),\n",
       " (11.262499999999999, 2, 1),\n",
       " (13.983333333333333, 2, 2),\n",
       " (16.783333333333335, 2, 3),\n",
       " (26.399999999999999, 2, 4),\n",
       " (160.80000000000001, 2, 5),\n",
       " (45.533333333333331, 2, 6),\n",
       " (47.462499999999999, 2, 7),\n",
       " (77.333333333333329, 2, 8),\n",
       " (31.729166666666668, 2, 9),\n",
       " (19.583333333333332, 2, 10),\n",
       " (14.229166666666666, 2, 11),\n",
       " (14.9625, 2, 12),\n",
       " (12.695833333333333, 2, 13),\n",
       " (15.583333333333334, 2, 14),\n",
       " (15.466666666666667, 2, 15),\n",
       " (12.0, 2, 16),\n",
       " (24.595833333333335, 2, 17),\n",
       " (2.5166666666666666, 2, 18),\n",
       " (12.829166666666667, 2, 19),\n",
       " (0.0, 2, 20),\n",
       " (401.82916666666665, 2, 21),\n",
       " (107.06666666666666, 3, 0),\n",
       " (18.25, 3, 1),\n",
       " (12.6, 3, 2),\n",
       " (14.783333333333333, 3, 3),\n",
       " (34.195833333333333, 3, 4),\n",
       " (95.799999999999997, 3, 5),\n",
       " (9.4291666666666671, 3, 6),\n",
       " (182.49583333333334, 3, 7),\n",
       " (146.26249999999999, 3, 8),\n",
       " (38.929166666666667, 3, 9),\n",
       " (21.229166666666668, 3, 10),\n",
       " (8.6291666666666664, 3, 11),\n",
       " (10.029166666666667, 3, 12),\n",
       " (20.600000000000001, 3, 13),\n",
       " (10.729166666666666, 3, 14),\n",
       " (21.662500000000001, 3, 15),\n",
       " (7.6958333333333337, 3, 16),\n",
       " (60.462499999999999, 3, 17),\n",
       " (48.595833333333331, 3, 18),\n",
       " (25.983333333333334, 3, 19),\n",
       " (37.0, 3, 20),\n",
       " (634.72916666666663, 3, 21),\n",
       " (269.73333333333335, 4, 0),\n",
       " (21.0, 4, 1),\n",
       " (17.862500000000001, 4, 2),\n",
       " (17.199999999999999, 4, 3),\n",
       " (25.600000000000001, 4, 4),\n",
       " (56.783333333333331, 4, 5),\n",
       " (37.695833333333333, 4, 6),\n",
       " (48.133333333333333, 4, 7),\n",
       " (5911.4666666666662, 4, 8),\n",
       " (2063.6624999999999, 4, 9),\n",
       " (60.266666666666666, 4, 10),\n",
       " (108.0625, 4, 11),\n",
       " (12.495833333333334, 4, 12),\n",
       " (162.16249999999999, 4, 13),\n",
       " (20.649999999999999, 4, 14),\n",
       " (39.06666666666667, 4, 15),\n",
       " (51.99583333333333, 4, 16),\n",
       " (97.529166666666669, 4, 17),\n",
       " (81.92916666666666, 4, 18),\n",
       " (68.92916666666666, 4, 19),\n",
       " (23.399999999999999, 4, 20),\n",
       " (26.095833333333335, 4, 21),\n",
       " (140.22916666666666, 5, 0),\n",
       " (16.262499999999999, 5, 1),\n",
       " (12.733333333333333, 5, 2),\n",
       " (22.649999999999999, 5, 3),\n",
       " (30.895833333333332, 5, 4),\n",
       " (84.095833333333331, 5, 5),\n",
       " (16.929166666666667, 5, 6),\n",
       " (65.200000000000003, 5, 7),\n",
       " (7990.6499999999996, 5, 8),\n",
       " (2962.8625000000002, 5, 9),\n",
       " (69.86666666666666, 5, 10),\n",
       " (124.49583333333334, 5, 11),\n",
       " (23.583333333333332, 5, 12),\n",
       " (209.13333333333333, 5, 13),\n",
       " (53.729166666666664, 5, 14),\n",
       " (90.916666666666671, 5, 15),\n",
       " (71.229166666666671, 5, 16),\n",
       " (201.26666666666668, 5, 17),\n",
       " (75.049999999999997, 5, 18),\n",
       " (20.862500000000001, 5, 19),\n",
       " (14.862500000000001, 5, 20),\n",
       " (12.733333333333333, 5, 21),\n",
       " (121.31666666666666, 6, 0),\n",
       " (15.266666666666667, 6, 1),\n",
       " (11.4, 6, 2),\n",
       " (92.0, 6, 3),\n",
       " (41.850000000000001, 6, 4),\n",
       " (173.33333333333334, 6, 5),\n",
       " (14.783333333333333, 6, 6),\n",
       " (2270.1624999999999, 6, 7),\n",
       " (1079.4291666666666, 6, 8),\n",
       " (7918.0625, 6, 9),\n",
       " (68.86666666666666, 6, 10),\n",
       " (108.2625, 6, 11),\n",
       " (60.116666666666667, 6, 12),\n",
       " (57.962499999999999, 6, 13),\n",
       " (39.06666666666667, 6, 14),\n",
       " (50.383333333333333, 6, 15),\n",
       " (552.0, 6, 16),\n",
       " (119.29583333333333, 6, 17),\n",
       " (35.462499999999999, 6, 18),\n",
       " (18.383333333333333, 6, 19),\n",
       " (12.666666666666666, 6, 20),\n",
       " (12.629166666666666, 6, 21),\n",
       " (171.72916666666666, 7, 0),\n",
       " (12.262499999999999, 7, 1),\n",
       " (13.295833333333333, 7, 2),\n",
       " (53.850000000000001, 7, 3),\n",
       " (64.529166666666669, 7, 4),\n",
       " (81.395833333333329, 7, 5),\n",
       " (11.333333333333334, 7, 6),\n",
       " (1922.4958333333334, 7, 7),\n",
       " (35.049999999999997, 7, 8),\n",
       " (2147.1999999999998, 7, 9),\n",
       " (5422.6499999999996, 7, 10),\n",
       " (79.162499999999994, 7, 11),\n",
       " (74.529166666666669, 7, 12),\n",
       " (63.466666666666669, 7, 13),\n",
       " (41.795833333333334, 7, 14),\n",
       " (32.466666666666669, 7, 15),\n",
       " (105.19583333333334, 7, 16),\n",
       " (62.333333333333336, 7, 17),\n",
       " (16.116666666666667, 7, 18),\n",
       " (10.0, 7, 19),\n",
       " (16.333333333333332, 7, 20),\n",
       " (9.3166666666666664, 7, 21),\n",
       " (83.733333333333334, 8, 0),\n",
       " (12.383333333333333, 8, 1),\n",
       " (11.1625, 8, 2),\n",
       " (46.0, 8, 3),\n",
       " (24.866666666666667, 8, 4),\n",
       " (43.695833333333333, 8, 5),\n",
       " (15.933333333333334, 8, 6),\n",
       " (1586.7625, 8, 7),\n",
       " (1893.3958333333333, 8, 8),\n",
       " (808.42916666666667, 8, 9),\n",
       " (6796.5333333333338, 8, 10),\n",
       " (30.800000000000001, 8, 11),\n",
       " (29.729166666666668, 8, 12),\n",
       " (64.11666666666666, 8, 13),\n",
       " (41.662500000000001, 8, 14),\n",
       " (46.783333333333331, 8, 15),\n",
       " (22.895833333333332, 8, 16),\n",
       " (58.329166666666666, 8, 17),\n",
       " (14.466666666666667, 8, 18),\n",
       " (22.762499999999999, 8, 19),\n",
       " (11.866666666666667, 8, 20),\n",
       " (20.649999999999999, 8, 21),\n",
       " (56.929166666666667, 9, 0),\n",
       " (17.333333333333332, 9, 1),\n",
       " (23.629166666666666, 9, 2),\n",
       " (15.316666666666666, 9, 3),\n",
       " (50.383333333333333, 9, 4),\n",
       " (73.69583333333334, 9, 5),\n",
       " (17.129166666666666, 9, 6),\n",
       " (980.19583333333333, 9, 7),\n",
       " (825.72916666666663, 9, 8),\n",
       " (2384.2958333333331, 9, 9),\n",
       " (2184.25, 9, 10),\n",
       " (15.829166666666667, 9, 11),\n",
       " (15.866666666666667, 9, 12),\n",
       " (46.25, 9, 13),\n",
       " (21.583333333333332, 9, 14),\n",
       " (63.729166666666664, 9, 15),\n",
       " (55.695833333333333, 9, 16),\n",
       " (43.666666666666664, 9, 17),\n",
       " (19.095833333333335, 9, 18),\n",
       " (19.266666666666666, 9, 19),\n",
       " (11.866666666666667, 9, 20),\n",
       " (23.129166666666666, 9, 21),\n",
       " (28.0625, 10, 0),\n",
       " (13.066666666666666, 10, 1),\n",
       " (11.895833333333334, 10, 2),\n",
       " (34.266666666666666, 10, 3),\n",
       " (37.662500000000001, 10, 4),\n",
       " (40.029166666666669, 10, 5),\n",
       " (31.395833333333332, 10, 6),\n",
       " (18.462499999999999, 10, 7),\n",
       " (2786.25, 10, 8),\n",
       " (1503.7625, 10, 9),\n",
       " (1114.0666666666666, 10, 10),\n",
       " (17.316666666666666, 10, 11),\n",
       " (22.733333333333334, 10, 12),\n",
       " (25.195833333333333, 10, 13),\n",
       " (20.333333333333332, 10, 14),\n",
       " (29.733333333333334, 10, 15),\n",
       " (73.183333333333337, 10, 16),\n",
       " (54.729166666666664, 10, 17),\n",
       " (16.0625, 10, 18),\n",
       " (14.129166666666666, 10, 19),\n",
       " (18.116666666666667, 10, 20),\n",
       " (17.583333333333332, 10, 21),\n",
       " (78.529166666666669, 11, 0),\n",
       " (13.429166666666667, 11, 1),\n",
       " (12.116666666666667, 11, 2),\n",
       " (29.595833333333335, 11, 3),\n",
       " (30.629166666666666, 11, 4),\n",
       " (54.25, 11, 5),\n",
       " (27.600000000000001, 11, 6),\n",
       " (990.76250000000005, 11, 7),\n",
       " (4442.0291666666662, 11, 8),\n",
       " (347.33333333333331, 11, 9),\n",
       " (82.662499999999994, 11, 10),\n",
       " (11.229166666666666, 11, 11),\n",
       " (17.316666666666666, 11, 12),\n",
       " (12.383333333333333, 11, 13),\n",
       " (12.6, 11, 14),\n",
       " (47.333333333333336, 11, 15),\n",
       " (102.59999999999999, 11, 16),\n",
       " (68.516666666666666, 11, 17),\n",
       " (22.862500000000001, 11, 18),\n",
       " (17.316666666666666, 11, 19),\n",
       " (18.383333333333333, 11, 20),\n",
       " (19.716666666666665, 11, 21),\n",
       " (103.33333333333333, 12, 0),\n",
       " (13.195833333333333, 12, 1),\n",
       " (19.429166666666667, 12, 2),\n",
       " (59.829166666666666, 12, 3),\n",
       " (37.18333333333333, 12, 4),\n",
       " (27.850000000000001, 12, 5),\n",
       " (21.066666666666666, 12, 6),\n",
       " (195.93333333333334, 12, 7),\n",
       " (3002.1999999999998, 12, 8),\n",
       " (172.51666666666668, 12, 9),\n",
       " (26.116666666666667, 12, 10),\n",
       " (11.729166666666666, 12, 11),\n",
       " (28.199999999999999, 12, 12),\n",
       " (18.133333333333333, 12, 13),\n",
       " (17.395833333333332, 12, 14),\n",
       " (32.799999999999997, 12, 15),\n",
       " (74.200000000000003, 12, 16),\n",
       " (69.716666666666669, 12, 17),\n",
       " (17.733333333333334, 12, 18),\n",
       " (19.583333333333332, 12, 19),\n",
       " (12.429166666666667, 12, 20),\n",
       " (12.729166666666666, 12, 21),\n",
       " (56.649999999999999, 13, 0),\n",
       " (17.333333333333332, 13, 1),\n",
       " (22.333333333333332, 13, 2),\n",
       " (29.962499999999999, 13, 3),\n",
       " (36.383333333333333, 13, 4),\n",
       " (18.783333333333335, 13, 5),\n",
       " (17.462499999999999, 13, 6),\n",
       " (21.133333333333333, 13, 7),\n",
       " (361.05000000000001, 13, 8),\n",
       " (44.029166666666669, 13, 9),\n",
       " (20.783333333333335, 13, 10),\n",
       " (67.183333333333337, 13, 11),\n",
       " (28.116666666666667, 13, 12),\n",
       " (16.862500000000001, 13, 13),\n",
       " (15.595833333333333, 13, 14),\n",
       " (20.862500000000001, 13, 15),\n",
       " (18.329166666666666, 13, 16),\n",
       " (47.850000000000001, 13, 17),\n",
       " (17.983333333333334, 13, 18),\n",
       " (18.295833333333334, 13, 19),\n",
       " (18.362500000000001, 13, 20),\n",
       " (19.895833333333332, 13, 21),\n",
       " (262.19999999999999, 14, 0),\n",
       " (20.783333333333335, 14, 1),\n",
       " (22.195833333333333, 14, 2),\n",
       " (23.762499999999999, 14, 3),\n",
       " (31.399999999999999, 14, 4),\n",
       " (19.162500000000001, 14, 5),\n",
       " (25.462499999999999, 14, 6),\n",
       " (15.762499999999999, 14, 7),\n",
       " (15.983333333333333, 14, 8),\n",
       " (15.716666666666667, 14, 9),\n",
       " (14.095833333333333, 14, 10),\n",
       " (12.116666666666667, 14, 11),\n",
       " (23.795833333333334, 14, 12),\n",
       " (18.729166666666668, 14, 13),\n",
       " (16.495833333333334, 14, 14),\n",
       " (19.399999999999999, 14, 15),\n",
       " (24.962499999999999, 14, 16),\n",
       " (15.362500000000001, 14, 17),\n",
       " (20.116666666666667, 14, 18),\n",
       " (30.116666666666667, 14, 19),\n",
       " (18.762499999999999, 14, 20),\n",
       " (14.1625, 14, 21),\n",
       " (127.89583333333333, 15, 0),\n",
       " (39.333333333333336, 15, 1),\n",
       " (22.466666666666665, 15, 2),\n",
       " (29.495833333333334, 15, 3),\n",
       " (13.316666666666666, 15, 4),\n",
       " (22.399999999999999, 15, 5),\n",
       " (16.133333333333333, 15, 6),\n",
       " (11.316666666666666, 15, 7),\n",
       " (16.195833333333333, 15, 8),\n",
       " (15.316666666666666, 15, 9),\n",
       " (8.8625000000000007, 15, 10),\n",
       " (11.329166666666667, 15, 11),\n",
       " (14.0, 15, 12),\n",
       " (21.316666666666666, 15, 13),\n",
       " (27.716666666666665, 15, 14),\n",
       " (18.029166666666665, 15, 15),\n",
       " (18.762499999999999, 15, 16),\n",
       " (14.800000000000001, 15, 17),\n",
       " (15.695833333333333, 15, 18),\n",
       " (18.466666666666665, 15, 19),\n",
       " (15.583333333333334, 15, 20),\n",
       " (22.962499999999999, 15, 21),\n",
       " (28.429166666666667, 16, 0),\n",
       " (14.262499999999999, 16, 1),\n",
       " (21.429166666666667, 16, 2),\n",
       " (18.383333333333333, 16, 3),\n",
       " (13.495833333333334, 16, 4),\n",
       " (13.495833333333334, 16, 5),\n",
       " (15.85, 16, 6),\n",
       " (13.183333333333334, 16, 7),\n",
       " (10.916666666666666, 16, 8),\n",
       " (13.6625, 16, 9),\n",
       " (9.9625000000000004, 16, 10),\n",
       " (13.995833333333334, 16, 11),\n",
       " (10.466666666666667, 16, 12),\n",
       " (22.429166666666667, 16, 13),\n",
       " (15.466666666666667, 16, 14),\n",
       " (17.229166666666668, 16, 15),\n",
       " (19.449999999999999, 16, 16),\n",
       " (18.795833333333334, 16, 17),\n",
       " (14.65, 16, 18),\n",
       " (15.829166666666667, 16, 19),\n",
       " (13.866666666666667, 16, 20),\n",
       " (18.800000000000001, 16, 21),\n",
       " (32.733333333333334, 17, 0),\n",
       " (23.716666666666665, 17, 1),\n",
       " (41.262500000000003, 17, 2),\n",
       " (38.762500000000003, 17, 3),\n",
       " (28.25, 17, 4),\n",
       " (36.195833333333333, 17, 5),\n",
       " (34.029166666666669, 17, 6),\n",
       " (30.762499999999999, 17, 7),\n",
       " (20.133333333333333, 17, 8),\n",
       " (24.866666666666667, 17, 9),\n",
       " (25.466666666666665, 17, 10),\n",
       " (32.095833333333331, 17, 11),\n",
       " (19.595833333333335, 17, 12),\n",
       " (28.383333333333333, 17, 13),\n",
       " (36.329166666666666, 17, 14),\n",
       " (34.0, 17, 15),\n",
       " (35.729166666666664, 17, 16),\n",
       " (23.495833333333334, 17, 17),\n",
       " (33.866666666666667, 17, 18),\n",
       " (17.329166666666666, 17, 19),\n",
       " (53.983333333333334, 17, 20),\n",
       " (22.600000000000001, 17, 21)]"
      ]
     },
     "execution_count": 138,
     "metadata": {},
     "output_type": "execute_result"
    }
   ],
   "source": [
    "lst"
   ]
  },
  {
   "cell_type": "code",
   "execution_count": 139,
   "metadata": {
    "collapsed": true
   },
   "outputs": [],
   "source": [
    "lst.sort(key=lambda x: x[0])"
   ]
  },
  {
   "cell_type": "code",
   "execution_count": 140,
   "metadata": {},
   "outputs": [],
   "source": [
    "outs = find_moving_object(lst)"
   ]
  },
  {
   "cell_type": "code",
   "execution_count": 121,
   "metadata": {},
   "outputs": [
    {
     "data": {
      "text/plain": [
       "[(3, 7),\n",
       " (12, 7),\n",
       " (5, 17),\n",
       " (5, 13),\n",
       " (14, 0),\n",
       " (4, 0),\n",
       " (0, 0),\n",
       " (11, 9),\n",
       " (13, 8),\n",
       " (2, 21),\n",
       " (6, 16),\n",
       " (3, 21),\n",
       " (8, 9),\n",
       " (9, 8),\n",
       " (9, 7),\n",
       " (11, 7),\n",
       " (6, 8),\n",
       " (10, 10),\n",
       " (10, 9),\n",
       " (8, 7),\n",
       " (8, 8),\n",
       " (7, 7),\n",
       " (4, 9),\n",
       " (7, 9),\n",
       " (9, 10),\n",
       " (6, 7),\n",
       " (9, 9),\n",
       " (10, 8),\n",
       " (5, 9),\n",
       " (12, 8),\n",
       " (11, 8),\n",
       " (7, 10),\n",
       " (4, 8),\n",
       " (8, 10),\n",
       " (6, 9),\n",
       " (5, 8)]"
      ]
     },
     "execution_count": 121,
     "metadata": {},
     "output_type": "execute_result"
    }
   ],
   "source": [
    "outs"
   ]
  },
  {
   "cell_type": "code",
   "execution_count": 141,
   "metadata": {
    "collapsed": true
   },
   "outputs": [],
   "source": [
    "new = np.zeros_like(tmp)"
   ]
  },
  {
   "cell_type": "code",
   "execution_count": 142,
   "metadata": {
    "collapsed": true
   },
   "outputs": [],
   "source": [
    "mc2 = divideToMacroblocks(new)"
   ]
  },
  {
   "cell_type": "code",
   "execution_count": 143,
   "metadata": {},
   "outputs": [
    {
     "name": "stdout",
     "output_type": "stream",
     "text": [
      "y\n",
      "y\n",
      "y\n",
      "y\n",
      "y\n",
      "y\n",
      "y\n",
      "y\n",
      "y\n",
      "y\n",
      "y\n",
      "y\n",
      "y\n",
      "y\n",
      "y\n",
      "y\n",
      "y\n",
      "y\n",
      "y\n",
      "y\n",
      "y\n",
      "y\n",
      "y\n",
      "y\n",
      "y\n",
      "y\n",
      "y\n",
      "y\n",
      "y\n",
      "y\n",
      "y\n",
      "y\n",
      "y\n",
      "y\n",
      "y\n",
      "y\n"
     ]
    }
   ],
   "source": [
    "for y, macby in enumerate(mc):\n",
    "    for x, macbx in enumerate(macby):\n",
    "        if (y,x) not in outs:\n",
    "            mc2[y][x]=1000\n",
    "        else:\n",
    "            print ('y')\n",
    "            mc2[y][x]=mc[y][x]"
   ]
  },
  {
   "cell_type": "code",
   "execution_count": 144,
   "metadata": {},
   "outputs": [
    {
     "data": {
      "text/plain": [
       "<matplotlib.image.AxesImage at 0x2799adc9d68>"
      ]
     },
     "execution_count": 144,
     "metadata": {},
     "output_type": "execute_result"
    },
    {
     "data": {
      "image/png": "[encoded data removed]",
      "text/plain": [
       "<matplotlib.figure.Figure at 0x2799ad08cf8>"
      ]
     },
     "metadata": {},
     "output_type": "display_data"
    }
   ],
   "source": [
    "frame = imageReconstructFromBlocks(mc2)\n",
    "plt.imshow(frame, cmap='gray')"
   ]
  },
  {
   "cell_type": "code",
   "execution_count": null,
   "metadata": {
    "collapsed": true
   },
   "outputs": [],
   "source": []
  }
 ],
 "metadata": {
  "kernelspec": {
   "display_name": "Python 3",
   "language": "python",
   "name": "python3"
  },
  "language_info": {
   "codemirror_mode": {
    "name": "ipython",
    "version": 3
   },
   "file_extension": ".py",
   "mimetype": "text/x-python",
   "name": "python",
   "nbconvert_exporter": "python",
   "pygments_lexer": "ipython3",
   "version": "3.6.3"
  }
 },
 "nbformat": 4,
 "nbformat_minor": 2
}
