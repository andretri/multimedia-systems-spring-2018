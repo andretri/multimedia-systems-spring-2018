{
 "cells": [
  {
   "cell_type": "code",
   "execution_count": 34,
   "metadata": {
    "collapsed": true
   },
   "outputs": [],
   "source": [
    "%matplotlib inline\n",
    "\n",
    "import imageio\n",
    "import numpy as np\n",
    "import matplotlib.pyplot as plt\n",
    "import os\n",
    "import pandas as pd"
   ]
  },
  {
   "cell_type": "markdown",
   "metadata": {},
   "source": [
    "## FUNCTIONS"
   ]
  },
  {
   "cell_type": "code",
   "execution_count": 35,
   "metadata": {
    "collapsed": true
   },
   "outputs": [],
   "source": [
    "def readVideoFrames(filename):\n",
    "    vid = imageio.get_reader(filename,  'ffmpeg')\n",
    "    fps = vid.get_meta_data()['fps']\n",
    "    num = 0\n",
    "    frames = []\n",
    "    while 1:\n",
    "        try:\n",
    "            image = vid.get_data(num)\n",
    "            frames.append(image)\n",
    "            num+=1\n",
    "        except IndexError:\n",
    "            break\n",
    "\n",
    "    return np.array(frames), fps"
   ]
  },
  {
   "cell_type": "code",
   "execution_count": 36,
   "metadata": {
    "collapsed": true
   },
   "outputs": [],
   "source": [
    "def makeGrayScale(rgbVid):\n",
    "    '''Converts numpy array vid to grayscale vid'''\n",
    "    frames_bw = []\n",
    "    for frame in rgbVid:\n",
    "        frames_bw.append(np.around(np.dot(frame[:,:,:3], [0.2989, 0.587, 0.114])))\n",
    "    return np.array(frames_bw)"
   ]
  },
  {
   "cell_type": "code",
   "execution_count": 37,
   "metadata": {
    "collapsed": true
   },
   "outputs": [],
   "source": [
    "def calculateDifferenceFrames(frames):\n",
    "    dif_lst = []\n",
    "    for i in range(1, frames.shape[0]):\n",
    "        dif_lst.append(frames[i-1,:,:]-frames[i,:,:])\n",
    "    return np.array(dif_lst)"
   ]
  },
  {
   "cell_type": "code",
   "execution_count": 38,
   "metadata": {
    "collapsed": true
   },
   "outputs": [],
   "source": [
    "def divideToMacroblocks(frame, macroblock_size=16):\n",
    "    macroblocks = []\n",
    "    m, n = frame.shape\n",
    "    for i in range(0, m, macroblock_size):\n",
    "        for j in range(0, n, macroblock_size):\n",
    "            macroblock = frame[i:i+macroblock_size,j:j+macroblock_size]\n",
    "    #         print (macroblock.shape)\n",
    "            if macroblock.shape == (macroblock_size, macroblock_size):\n",
    "    #             print ('works')\n",
    "                macroblocks.append(macroblock)\n",
    "            else:\n",
    "    #             print ('something\\'s goin\\' on')\n",
    "                try:\n",
    "                    macroblock = np.vstack((macroblock, np.zeros(macroblock.shape[0], macroblock_size-macroblock.shape[1])))\n",
    "                except TypeError:\n",
    "                    pass\n",
    "                try:\n",
    "                    macroblock = np.hstack((macroblock, np.zeros(macroblock_size-macroblock.shape[0], macroblock.shape[1])))\n",
    "                except TypeError:\n",
    "                    pass\n",
    "                macroblocks.append(macroblock)\n",
    "    return np.array(macroblocks).reshape((int(m/macroblock_size), int(n/macroblock_size), macroblock_size, macroblock_size))"
   ]
  },
  {
   "cell_type": "code",
   "execution_count": 39,
   "metadata": {
    "collapsed": true
   },
   "outputs": [],
   "source": [
    "def createNeighborhood(referenceFrame, indexOfMacroblock, macroblock_size=16, k=16):\n",
    "    neighborhood = []\n",
    "#     print (indexOfMacroblock)\n",
    "    for i in range(indexOfMacroblock[0]-k, indexOfMacroblock[0]+k+1, k):\n",
    "        for j in range(indexOfMacroblock[1]-k, indexOfMacroblock[1]+k+1, k):\n",
    "            if (i >= 0 and j >= 0 and i+macroblock_size < referenceFrame.shape[0] and j+macroblock_size < referenceFrame.shape[1]):\n",
    "#                 print (i,j)\n",
    "                neighborhood.append(referenceFrame[i:i+macroblock_size, j:j+macroblock_size])\n",
    "            else:\n",
    "                neighborhood += [None]\n",
    "    return neighborhood"
   ]
  },
  {
   "cell_type": "code",
   "execution_count": 40,
   "metadata": {
    "collapsed": true
   },
   "outputs": [],
   "source": [
    "def SAD(referenceMacroblock, targetMacroblock):\n",
    "#     print (targetMacroblock.shape, referenceMacroblock.shape)\n",
    "    return np.sum(np.abs(targetMacroblock - referenceMacroblock))"
   ]
  },
  {
   "cell_type": "code",
   "execution_count": 41,
   "metadata": {
    "collapsed": true
   },
   "outputs": [],
   "source": [
    "def calculateSAD(targetMacroblock, referenceFrame_neighbor_macroblocks):\n",
    "    SADvals = []\n",
    "        \n",
    "    for macroblock in referenceFrame_neighbor_macroblocks:\n",
    "        if macroblock is not None:\n",
    "            SADvals.append(SAD(macroblock, targetMacroblock))\n",
    "        else:\n",
    "            SADvals.append(np.Inf)\n",
    "    \n",
    "    return np.array(SADvals).reshape((3,3))"
   ]
  },
  {
   "cell_type": "code",
   "execution_count": 42,
   "metadata": {
    "collapsed": true
   },
   "outputs": [],
   "source": [
    "def logarithmicSearch(referenceFrame, targetMacroblock, indexOfMacroblock, macroblock_size=16, k=16):\n",
    "    if (k == 0):\n",
    "        return indexOfMacroblock, referenceFrame[indexOfMacroblock[0]:indexOfMacroblock[0]+macroblock_size, indexOfMacroblock[1]:indexOfMacroblock[1]+macroblock_size] # motionVector END (To_WIDTH, To_HEIGHT), return Predicted Frame\n",
    "    \n",
    "    referenceFrame_neighbor_macroblocks = createNeighborhood(referenceFrame, indexOfMacroblock, macroblock_size, k)\n",
    "\n",
    "    SAD_values = calculateSAD(targetMacroblock, referenceFrame_neighbor_macroblocks)\n",
    "#     print (SAD_values)\n",
    "    indexofMinimumSAD = divmod(SAD_values.argmin(), SAD_values.shape[1])\n",
    "    newIndexOfMacroblock = list(indexOfMacroblock)\n",
    "    \n",
    "    if (indexofMinimumSAD[0] == 0):\n",
    "        newIndexOfMacroblock[0] = indexOfMacroblock[0] - k\n",
    "    elif (indexofMinimumSAD[0] == 2):\n",
    "        newIndexOfMacroblock[0] = indexOfMacroblock[0] + k\n",
    "    \n",
    "    if (indexofMinimumSAD[1] == 0):\n",
    "        newIndexOfMacroblock[1] = indexOfMacroblock[1] - k\n",
    "    elif (indexofMinimumSAD[1] == 2):\n",
    "        newIndexOfMacroblock[1] = indexOfMacroblock[1] + k\n",
    "\n",
    "    if (indexofMinimumSAD[0] == 1 and indexofMinimumSAD[1] == 1):\n",
    "        newK = k//2\n",
    "    else:\n",
    "        newK = k       \n",
    "#     print (indexofMinimumSAD)\n",
    "#     print (newIndexOfMacroblock)\n",
    "    return logarithmicSearch(referenceFrame, targetMacroblock, tuple(newIndexOfMacroblock), macroblock_size, newK)"
   ]
  },
  {
   "cell_type": "code",
   "execution_count": 43,
   "metadata": {
    "collapsed": true
   },
   "outputs": [],
   "source": [
    "def motionCompensation(referenceFrame, targetFrame, macroblock_size=16):\n",
    "    predictedBlocks = []\n",
    "    motionVectors = []\n",
    "    \n",
    "    targetMacroblocks = divideToMacroblocks(targetFrame, macroblock_size)\n",
    "    for i in range(targetMacroblocks.shape[0]):\n",
    "        for j in range(targetMacroblocks.shape[1]):\n",
    "            motionVectorSTART = (i*macroblock_size, j*macroblock_size)\n",
    "            indexofBlock = (i*macroblock_size, j*macroblock_size)\n",
    "            motionVectorEND, prediction = logarithmicSearch(referenceFrame, targetMacroblocks[i,j,:,:], indexofBlock)\n",
    "            predictedBlocks.append(prediction)\n",
    "            motionVectors.append(motionVectorSTART+motionVectorEND)\n",
    "\n",
    "#     print (len(motionVectors))\n",
    "    predictedBlocks = np.array(predictedBlocks).reshape(targetMacroblocks.shape)\n",
    "    motionVectors = np.array(motionVectors, dtype=(int,4)).reshape((targetMacroblocks.shape[0], targetMacroblocks.shape[1], 4))\n",
    "    return predictedBlocks, motionVectors"
   ]
  },
  {
   "cell_type": "code",
   "execution_count": 44,
   "metadata": {
    "collapsed": true
   },
   "outputs": [],
   "source": [
    "def imageReconstructFromBlocks(blocks):\n",
    "    lines = []\n",
    "    for i in range(blocks.shape[0]):\n",
    "        line = []\n",
    "        for j in range(blocks.shape[1]):\n",
    "            line.append(blocks[i,j,:,:])\n",
    "        line = np.hstack(line)\n",
    "        lines.append(line)\n",
    "    return np.vstack(lines)"
   ]
  },
  {
   "cell_type": "code",
   "execution_count": 45,
   "metadata": {
    "collapsed": true
   },
   "outputs": [],
   "source": [
    "def find_moving_object(lst): #V2 - the input arguments have changed!!!\n",
    "    X = np.array(lst)\n",
    "    q25_75 = np.array([])\n",
    "    \n",
    "    outliers_list_batch = []\n",
    "    \n",
    "    if len(X.shape) ==1:\n",
    "        X = X.reshape((X.shape[0],1))\n",
    "\n",
    "\n",
    "    if not q25_75.any():\n",
    "        q25_75 = np.zeros((X.shape[1],2))\t#V3 - changed X.shape[0] to X.shape[1]\n",
    "    for line in range(X.shape[1]):\n",
    "    #     if line%300==0:\n",
    "    #         print 'lines processed: ', line, ' out of ', X.shape[1]\n",
    "        x = X[:,line].copy()        \n",
    "        outliers_list = []\n",
    "\n",
    "        if sum(abs(x))!=0:\n",
    "            q25=q25_75[line,0]\n",
    "            q75=q25_75[line,1]\n",
    "\n",
    "            if (q25==0) & (q75==0):\n",
    "                q75, q25 = np.percentile(x[x!=0], [75,25])\n",
    "\n",
    "            iqr = q75 - q25\n",
    "            outl = np.argwhere(abs(x)>q75+3*iqr)\n",
    "            outliers = group_consecutives(outl)\n",
    "            for ll in outliers:\n",
    "                if ll:\n",
    "                    current = int(ll[0][0]),int(ll[-1][0])\n",
    "                    outliers_list.append(current)        \n",
    "        else:\n",
    "            outliers_list.append([])\n",
    "            q75 = 0\n",
    "            q25 = 0\n",
    "\n",
    "        outliers_list_batch.append(outliers_list)\n",
    "        q25_75[line,:] = [q25,q75]\n",
    "        \n",
    "    fn_lst = []\n",
    "    for i in range(outliers_list_batch[0][0][0], outliers_list_batch[0][0][1]):\n",
    "        fn_lst.append(tuple(lst[i][1:]))\n",
    "    # print 'done.'\n",
    "    return fn_lst"
   ]
  },
  {
   "cell_type": "code",
   "execution_count": 46,
   "metadata": {
    "collapsed": true
   },
   "outputs": [],
   "source": [
    "def group_consecutives(vals, step=1):\n",
    "    \"\"\"Return list of consecutive lists of numbers from vals (number list).\"\"\"\n",
    "    run = []\n",
    "    result = [run]\n",
    "    expect = None\n",
    "    for v in vals:\n",
    "        if (v == expect) or (expect is None):\n",
    "            run.append(v)\n",
    "        else:\n",
    "            run = [v]\n",
    "            result.append(run)\n",
    "        expect = v + step\n",
    "    return result"
   ]
  },
  {
   "cell_type": "code",
   "execution_count": 47,
   "metadata": {
    "collapsed": true
   },
   "outputs": [],
   "source": [
    "def make_var_list(mbs):\n",
    "    lst = []\n",
    "    for y, macby in enumerate(mbs):\n",
    "        for x, macbx in enumerate(macby):\n",
    "            lst.append((max(pd.DataFrame(macbx).max()-pd.DataFrame(macbx).min()), y, x))\n",
    "            \n",
    "    return lst"
   ]
  },
  {
   "cell_type": "code",
   "execution_count": 48,
   "metadata": {
    "collapsed": true
   },
   "outputs": [],
   "source": [
    "def swap_object(x_and_y, frame, back):\n",
    "    tmp = frame\n",
    "    for tup in x_and_y:\n",
    "        y,x = tup\n",
    "        tmp[y][x] = back[y][x]\n",
    "        \n",
    "    return tmp"
   ]
  },
  {
   "cell_type": "code",
   "execution_count": 49,
   "metadata": {
    "collapsed": true
   },
   "outputs": [],
   "source": [
    "def reconstruct_vid(img1, diffs):\n",
    "    final_vid  = [img1]\n",
    "    cnt = 1\n",
    "    for frame in diffs:\n",
    "        final_vid.append(final_vid[-1]-frame)\n",
    "        \n",
    "    \n",
    "    return np.array(final_vid)"
   ]
  },
  {
   "cell_type": "code",
   "execution_count": 58,
   "metadata": {
    "collapsed": true
   },
   "outputs": [],
   "source": [
    "def find_obj(diff):\n",
    "    mc = divideToMacroblocks(diff)\n",
    "    lst = make_var_list(mc)\n",
    "    lst.sort(key=lambda x: x[0])\n",
    "    outs = find_moving_object(lst)\n",
    "    return outs"
   ]
  },
  {
   "cell_type": "code",
   "execution_count": 51,
   "metadata": {
    "collapsed": true
   },
   "outputs": [],
   "source": [
    "def has_n_neighbor(point, lst, num=1):\n",
    "    neighs = []\n",
    "    for cand in lst:\n",
    "        if abs(cand[0]-point[0])<=1 and abs(cand[1]-point[1])<=1 and point != cand:\n",
    "            neighs.append(cand)\n",
    "            \n",
    "    if len(neighs)>=num:\n",
    "        return True\n",
    "    else:\n",
    "        return False\n",
    "        \n",
    "        "
   ]
  },
  {
   "cell_type": "code",
   "execution_count": 52,
   "metadata": {
    "collapsed": true
   },
   "outputs": [],
   "source": [
    "def return_range(lst, min_neighs=1):\n",
    "    neighs=  []\n",
    "    final_range = []\n",
    "    for point in lst:\n",
    "        if has_n_neighbor(point, lst, num=min_neighs):\n",
    "            neighs.append(point)\n",
    "    \n",
    "    xs, ys = [val[0] for val in neighs], [val[1] for val in neighs]\n",
    "    \n",
    "    if len(xs)==0 or len(ys)==0:\n",
    "        return []\n",
    "    for i in range(min(xs), max(xs)+1):\n",
    "        for j in range(min(ys), max(ys)+1):\n",
    "            final_range.append((i,j))\n",
    "            \n",
    "    return final_range"
   ]
  },
  {
   "cell_type": "code",
   "execution_count": 62,
   "metadata": {},
   "outputs": [],
   "source": [
    "def return_mem(lst):\n",
    "    tmp = []\n",
    "    for el in lst:\n",
    "        tmp += el\n",
    "        \n",
    "    return list(set(tmp))"
   ]
  },
  {
   "cell_type": "markdown",
   "metadata": {},
   "source": [
    "## Main"
   ]
  },
  {
   "cell_type": "code",
   "execution_count": 54,
   "metadata": {
    "collapsed": true
   },
   "outputs": [],
   "source": [
    "hall_monitor_cif = \"resources/ex617/hall_monitor_cif.y4m\"\n",
    "resources_path = \"resources/ex818\""
   ]
  },
  {
   "cell_type": "code",
   "execution_count": 55,
   "metadata": {
    "collapsed": true
   },
   "outputs": [],
   "source": [
    "videoFrames, fps = readVideoFrames(hall_monitor_cif)"
   ]
  },
  {
   "cell_type": "code",
   "execution_count": 56,
   "metadata": {
    "scrolled": true
   },
   "outputs": [
    {
     "data": {
      "text/plain": [
       "(300, 288, 352, 3)"
      ]
     },
     "execution_count": 56,
     "metadata": {},
     "output_type": "execute_result"
    }
   ],
   "source": [
    "videoFramesSample = videoFrames[:, :, :, :]\n",
    "videoFramesSample.shape"
   ]
  },
  {
   "cell_type": "code",
   "execution_count": 57,
   "metadata": {},
   "outputs": [
    {
     "data": {
      "text/plain": [
       "(300, 288, 352)"
      ]
     },
     "execution_count": 57,
     "metadata": {},
     "output_type": "execute_result"
    }
   ],
   "source": [
    "videoFramesSample = makeGrayScale(videoFramesSample)\n",
    "videoFramesSample.shape"
   ]
  },
  {
   "cell_type": "code",
   "execution_count": 75,
   "metadata": {},
   "outputs": [],
   "source": [
    "keep_memory = 500\n",
    "\n",
    "finalVideoFramesSample = [videoFramesSample[0]]\n",
    "mb_back = divideToMacroblocks(videoFramesSample[0])\n",
    "mbs = [[] for _ in range(keep_memory)]\n",
    "FrameDifferenceSample = calculateDifferenceFrames(videoFramesSample)\n",
    "for cnt, frame in enumerate(FrameDifferenceSample):\n",
    "    moving_mbs = find_obj(frame)\n",
    "    final_mbs = return_range(moving_mbs)\n",
    "    mbs.append(final_mbs)\n",
    "    mb_new = divideToMacroblocks(videoFramesSample[cnt+1])\n",
    "    full_mb = return_mem(mbs[-keep_memory:])\n",
    "    new_frame = swap_object(final_mbs,mb_new, mb_back)\n",
    "    final_img = imageReconstructFromBlocks(new_frame)\n",
    "    finalVideoFramesSample.append(final_img)\n"
   ]
  },
  {
   "cell_type": "code",
   "execution_count": 64,
   "metadata": {
    "scrolled": true
   },
   "outputs": [
    {
     "data": {
      "text/plain": [
       "<matplotlib.image.AxesImage at 0x1fb00411c50>"
      ]
     },
     "execution_count": 64,
     "metadata": {},
     "output_type": "execute_result"
    },
    {
     "data": {
      "image/png": "[encoded data removed]",
      "text/plain": [
       "<matplotlib.figure.Figure at 0x1fb531880f0>"
      ]
     },
     "metadata": {},
     "output_type": "display_data"
    }
   ],
   "source": [
    "plt.imshow(finalVideoFramesSample[50], cmap='gray')"
   ]
  },
  {
   "cell_type": "code",
   "execution_count": 77,
   "metadata": {},
   "outputs": [
    {
     "name": "stderr",
     "output_type": "stream",
     "text": [
      "C:\\Users\\theotheo\\Anaconda3\\lib\\site-packages\\imageio\\core\\util.py:104: UserWarning: Conversion from float64 to uint8, range [0.0, 255.0]\n",
      "  'range [{2}, {3}]'.format(dtype_str, out_type.__name__, mi, ma))\n"
     ]
    }
   ],
   "source": [
    "writer = imageio.get_writer(os.path.join(resources_path,'hall_monitor_cif_exafanizol9.mp4'), fps=fps,mode=\"I\")\n",
    "\n",
    "for frame in finalVideoFramesSample:\n",
    "    writer.append_data(frame)\n",
    "writer.close()"
   ]
  },
  {
   "cell_type": "code",
   "execution_count": 62,
   "metadata": {
    "collapsed": true
   },
   "outputs": [],
   "source": [
    "tmp = videoFramesSample[90]- videoFramesSample[89]"
   ]
  },
  {
   "cell_type": "code",
   "execution_count": 63,
   "metadata": {},
   "outputs": [
    {
     "data": {
      "text/plain": [
       "<matplotlib.image.AxesImage at 0x10f0986d8>"
      ]
     },
     "execution_count": 63,
     "metadata": {},
     "output_type": "execute_result"
    },
    {
     "data": {
      "image/png": "[encoded data removed]",
      "text/plain": [
       "<matplotlib.figure.Figure at 0x10f0faba8>"
      ]
     },
     "metadata": {},
     "output_type": "display_data"
    }
   ],
   "source": [
    "plt.imshow(tmp)"
   ]
  },
  {
   "cell_type": "code",
   "execution_count": 140,
   "metadata": {
    "collapsed": true
   },
   "outputs": [],
   "source": [
    "mc = divideToMacroblocks(tmp)"
   ]
  },
  {
   "cell_type": "code",
   "execution_count": 141,
   "metadata": {
    "collapsed": true
   },
   "outputs": [],
   "source": [
    "lst = make_var_list(mc)"
   ]
  },
  {
   "cell_type": "code",
   "execution_count": 142,
   "metadata": {},
   "outputs": [
    {
     "data": {
      "text/plain": [
       "[(38.0, 0, 0),\n",
       " (14.0, 0, 1),\n",
       " (10.0, 0, 2),\n",
       " (19.0, 0, 3),\n",
       " (25.0, 0, 4),\n",
       " (30.0, 0, 5),\n",
       " (46.0, 0, 6),\n",
       " (21.0, 0, 7),\n",
       " (13.0, 0, 8),\n",
       " (13.0, 0, 9),\n",
       " (13.0, 0, 10),\n",
       " (13.0, 0, 11),\n",
       " (12.0, 0, 12),\n",
       " (18.0, 0, 13),\n",
       " (14.0, 0, 14),\n",
       " (14.0, 0, 15),\n",
       " (12.0, 0, 16),\n",
       " (15.0, 0, 17),\n",
       " (10.0, 0, 18),\n",
       " (15.0, 0, 19),\n",
       " (16.0, 0, 20),\n",
       " (14.0, 0, 21),\n",
       " (57.0, 1, 0),\n",
       " (13.0, 1, 1),\n",
       " (13.0, 1, 2),\n",
       " (14.0, 1, 3),\n",
       " (30.0, 1, 4),\n",
       " (44.0, 1, 5),\n",
       " (46.0, 1, 6),\n",
       " (40.0, 1, 7),\n",
       " (18.0, 1, 8),\n",
       " (0.0, 1, 9),\n",
       " (30.0, 1, 10),\n",
       " (16.0, 1, 11),\n",
       " (13.0, 1, 12),\n",
       " (13.0, 1, 13),\n",
       " (16.0, 1, 14),\n",
       " (13.0, 1, 15),\n",
       " (14.0, 1, 16),\n",
       " (13.0, 1, 17),\n",
       " (33.0, 1, 18),\n",
       " (13.0, 1, 19),\n",
       " (7.0, 1, 20),\n",
       " (6.0, 1, 21),\n",
       " (27.0, 2, 0),\n",
       " (12.0, 2, 1),\n",
       " (11.0, 2, 2),\n",
       " (15.0, 2, 3),\n",
       " (23.0, 2, 4),\n",
       " (54.0, 2, 5),\n",
       " (17.0, 2, 6),\n",
       " (15.0, 2, 7),\n",
       " (23.0, 2, 8),\n",
       " (21.0, 2, 9),\n",
       " (16.0, 2, 10),\n",
       " (14.0, 2, 11),\n",
       " (15.0, 2, 12),\n",
       " (14.0, 2, 13),\n",
       " (13.0, 2, 14),\n",
       " (13.0, 2, 15),\n",
       " (14.0, 2, 16),\n",
       " (21.0, 2, 17),\n",
       " (8.0, 2, 18),\n",
       " (12.0, 2, 19),\n",
       " (0.0, 2, 20),\n",
       " (23.0, 2, 21),\n",
       " (33.0, 3, 0),\n",
       " (14.0, 3, 1),\n",
       " (11.0, 3, 2),\n",
       " (15.0, 3, 3),\n",
       " (14.0, 3, 4),\n",
       " (31.0, 3, 5),\n",
       " (11.0, 3, 6),\n",
       " (24.0, 3, 7),\n",
       " (41.0, 3, 8),\n",
       " (44.0, 3, 9),\n",
       " (12.0, 3, 10),\n",
       " (9.0, 3, 11),\n",
       " (14.0, 3, 12),\n",
       " (12.0, 3, 13),\n",
       " (14.0, 3, 14),\n",
       " (21.0, 3, 15),\n",
       " (14.0, 3, 16),\n",
       " (36.0, 3, 17),\n",
       " (63.0, 3, 18),\n",
       " (26.0, 3, 19),\n",
       " (39.0, 3, 20),\n",
       " (47.0, 3, 21),\n",
       " (37.0, 4, 0),\n",
       " (12.0, 4, 1),\n",
       " (12.0, 4, 2),\n",
       " (16.0, 4, 3),\n",
       " (20.0, 4, 4),\n",
       " (32.0, 4, 5),\n",
       " (41.0, 4, 6),\n",
       " (21.0, 4, 7),\n",
       " (37.0, 4, 8),\n",
       " (58.0, 4, 9),\n",
       " (47.0, 4, 10),\n",
       " (29.0, 4, 11),\n",
       " (19.0, 4, 12),\n",
       " (35.0, 4, 13),\n",
       " (17.0, 4, 14),\n",
       " (24.0, 4, 15),\n",
       " (52.0, 4, 16),\n",
       " (48.0, 4, 17),\n",
       " (47.0, 4, 18),\n",
       " (47.0, 4, 19),\n",
       " (35.0, 4, 20),\n",
       " (20.0, 4, 21),\n",
       " (48.0, 5, 0),\n",
       " (11.0, 5, 1),\n",
       " (12.0, 5, 2),\n",
       " (20.0, 5, 3),\n",
       " (23.0, 5, 4),\n",
       " (32.0, 5, 5),\n",
       " (13.0, 5, 6),\n",
       " (35.0, 5, 7),\n",
       " (50.0, 5, 8),\n",
       " (303.0, 5, 9),\n",
       " (199.0, 5, 10),\n",
       " (34.0, 5, 11),\n",
       " (38.0, 5, 12),\n",
       " (50.0, 5, 13),\n",
       " (54.0, 5, 14),\n",
       " (39.0, 5, 15),\n",
       " (41.0, 5, 16),\n",
       " (49.0, 5, 17),\n",
       " (26.0, 5, 18),\n",
       " (14.0, 5, 19),\n",
       " (14.0, 5, 20),\n",
       " (13.0, 5, 21),\n",
       " (36.0, 6, 0),\n",
       " (13.0, 6, 1),\n",
       " (15.0, 6, 2),\n",
       " (20.0, 6, 3),\n",
       " (17.0, 6, 4),\n",
       " (29.0, 6, 5),\n",
       " (32.0, 6, 6),\n",
       " (18.0, 6, 7),\n",
       " (46.0, 6, 8),\n",
       " (141.0, 6, 9),\n",
       " (173.0, 6, 10),\n",
       " (46.0, 6, 11),\n",
       " (43.0, 6, 12),\n",
       " (116.0, 6, 13),\n",
       " (94.0, 6, 14),\n",
       " (20.0, 6, 15),\n",
       " (45.0, 6, 16),\n",
       " (35.0, 6, 17),\n",
       " (18.0, 6, 18),\n",
       " (15.0, 6, 19),\n",
       " (14.0, 6, 20),\n",
       " (11.0, 6, 21),\n",
       " (47.0, 7, 0),\n",
       " (12.0, 7, 1),\n",
       " (15.0, 7, 2),\n",
       " (26.0, 7, 3),\n",
       " (30.0, 7, 4),\n",
       " (39.0, 7, 5),\n",
       " (12.0, 7, 6),\n",
       " (13.0, 7, 7),\n",
       " (100.0, 7, 8),\n",
       " (127.0, 7, 9),\n",
       " (23.0, 7, 10),\n",
       " (20.0, 7, 11),\n",
       " (158.0, 7, 12),\n",
       " (204.0, 7, 13),\n",
       " (79.0, 7, 14),\n",
       " (21.0, 7, 15),\n",
       " (40.0, 7, 16),\n",
       " (18.0, 7, 17),\n",
       " (13.0, 7, 18),\n",
       " (12.0, 7, 19),\n",
       " (10.0, 7, 20),\n",
       " (15.0, 7, 21),\n",
       " (52.0, 8, 0),\n",
       " (14.0, 8, 1),\n",
       " (13.0, 8, 2),\n",
       " (38.0, 8, 3),\n",
       " (31.0, 8, 4),\n",
       " (36.0, 8, 5),\n",
       " (26.0, 8, 6),\n",
       " (24.0, 8, 7),\n",
       " (195.0, 8, 8),\n",
       " (91.0, 8, 9),\n",
       " (46.0, 8, 10),\n",
       " (37.0, 8, 11),\n",
       " (29.0, 8, 12),\n",
       " (74.0, 8, 13),\n",
       " (48.0, 8, 14),\n",
       " (44.0, 8, 15),\n",
       " (29.0, 8, 16),\n",
       " (32.0, 8, 17),\n",
       " (14.0, 8, 18),\n",
       " (18.0, 8, 19),\n",
       " (13.0, 8, 20),\n",
       " (11.0, 8, 21),\n",
       " (40.0, 9, 0),\n",
       " (18.0, 9, 1),\n",
       " (24.0, 9, 2),\n",
       " (35.0, 9, 3),\n",
       " (25.0, 9, 4),\n",
       " (41.0, 9, 5),\n",
       " (16.0, 9, 6),\n",
       " (20.0, 9, 7),\n",
       " (175.0, 9, 8),\n",
       " (115.0, 9, 9),\n",
       " (72.0, 9, 10),\n",
       " (25.0, 9, 11),\n",
       " (13.0, 9, 12),\n",
       " (130.0, 9, 13),\n",
       " (43.0, 9, 14),\n",
       " (36.0, 9, 15),\n",
       " (40.0, 9, 16),\n",
       " (36.0, 9, 17),\n",
       " (14.0, 9, 18),\n",
       " (18.0, 9, 19),\n",
       " (13.0, 9, 20),\n",
       " (14.0, 9, 21),\n",
       " (34.0, 10, 0),\n",
       " (21.0, 10, 1),\n",
       " (14.0, 10, 2),\n",
       " (22.0, 10, 3),\n",
       " (20.0, 10, 4),\n",
       " (30.0, 10, 5),\n",
       " (28.0, 10, 6),\n",
       " (21.0, 10, 7),\n",
       " (22.0, 10, 8),\n",
       " (106.0, 10, 9),\n",
       " (48.0, 10, 10),\n",
       " (13.0, 10, 11),\n",
       " (17.0, 10, 12),\n",
       " (157.0, 10, 13),\n",
       " (15.0, 10, 14),\n",
       " (21.0, 10, 15),\n",
       " (41.0, 10, 16),\n",
       " (31.0, 10, 17),\n",
       " (15.0, 10, 18),\n",
       " (15.0, 10, 19),\n",
       " (13.0, 10, 20),\n",
       " (15.0, 10, 21),\n",
       " (34.0, 11, 0),\n",
       " (13.0, 11, 1),\n",
       " (11.0, 11, 2),\n",
       " (20.0, 11, 3),\n",
       " (25.0, 11, 4),\n",
       " (23.0, 11, 5),\n",
       " (22.0, 11, 6),\n",
       " (20.0, 11, 7),\n",
       " (178.0, 11, 8),\n",
       " (177.0, 11, 9),\n",
       " (50.0, 11, 10),\n",
       " (13.0, 11, 11),\n",
       " (14.0, 11, 12),\n",
       " (18.0, 11, 13),\n",
       " (17.0, 11, 14),\n",
       " (34.0, 11, 15),\n",
       " (27.0, 11, 16),\n",
       " (29.0, 11, 17),\n",
       " (15.0, 11, 18),\n",
       " (15.0, 11, 19),\n",
       " (12.0, 11, 20),\n",
       " (13.0, 11, 21),\n",
       " (24.0, 12, 0),\n",
       " (12.0, 12, 1),\n",
       " (12.0, 12, 2),\n",
       " (17.0, 12, 3),\n",
       " (21.0, 12, 4),\n",
       " (20.0, 12, 5),\n",
       " (12.0, 12, 6),\n",
       " (14.0, 12, 7),\n",
       " (147.0, 12, 8),\n",
       " (144.0, 12, 9),\n",
       " (22.0, 12, 10),\n",
       " (16.0, 12, 11),\n",
       " (18.0, 12, 12),\n",
       " (16.0, 12, 13),\n",
       " (17.0, 12, 14),\n",
       " (20.0, 12, 15),\n",
       " (20.0, 12, 16),\n",
       " (29.0, 12, 17),\n",
       " (16.0, 12, 18),\n",
       " (11.0, 12, 19),\n",
       " (15.0, 12, 20),\n",
       " (15.0, 12, 21),\n",
       " (38.0, 13, 0),\n",
       " (17.0, 13, 1),\n",
       " (14.0, 13, 2),\n",
       " (18.0, 13, 3),\n",
       " (17.0, 13, 4),\n",
       " (16.0, 13, 5),\n",
       " (15.0, 13, 6),\n",
       " (15.0, 13, 7),\n",
       " (14.0, 13, 8),\n",
       " (13.0, 13, 9),\n",
       " (13.0, 13, 10),\n",
       " (16.0, 13, 11),\n",
       " (14.0, 13, 12),\n",
       " (14.0, 13, 13),\n",
       " (16.0, 13, 14),\n",
       " (16.0, 13, 15),\n",
       " (14.0, 13, 16),\n",
       " (20.0, 13, 17),\n",
       " (16.0, 13, 18),\n",
       " (16.0, 13, 19),\n",
       " (12.0, 13, 20),\n",
       " (16.0, 13, 21),\n",
       " (21.0, 14, 0),\n",
       " (14.0, 14, 1),\n",
       " (18.0, 14, 2),\n",
       " (17.0, 14, 3),\n",
       " (18.0, 14, 4),\n",
       " (15.0, 14, 5),\n",
       " (14.0, 14, 6),\n",
       " (15.0, 14, 7),\n",
       " (13.0, 14, 8),\n",
       " (12.0, 14, 9),\n",
       " (13.0, 14, 10),\n",
       " (14.0, 14, 11),\n",
       " (15.0, 14, 12),\n",
       " (14.0, 14, 13),\n",
       " (15.0, 14, 14),\n",
       " (13.0, 14, 15),\n",
       " (16.0, 14, 16),\n",
       " (15.0, 14, 17),\n",
       " (16.0, 14, 18),\n",
       " (13.0, 14, 19),\n",
       " (17.0, 14, 20),\n",
       " (21.0, 14, 21),\n",
       " (32.0, 15, 0),\n",
       " (17.0, 15, 1),\n",
       " (21.0, 15, 2),\n",
       " (19.0, 15, 3),\n",
       " (15.0, 15, 4),\n",
       " (14.0, 15, 5),\n",
       " (14.0, 15, 6),\n",
       " (11.0, 15, 7),\n",
       " (12.0, 15, 8),\n",
       " (14.0, 15, 9),\n",
       " (13.0, 15, 10),\n",
       " (18.0, 15, 11),\n",
       " (15.0, 15, 12),\n",
       " (15.0, 15, 13),\n",
       " (15.0, 15, 14),\n",
       " (18.0, 15, 15),\n",
       " (17.0, 15, 16),\n",
       " (18.0, 15, 17),\n",
       " (16.0, 15, 18),\n",
       " (15.0, 15, 19),\n",
       " (15.0, 15, 20),\n",
       " (17.0, 15, 21),\n",
       " (31.0, 16, 0),\n",
       " (21.0, 16, 1),\n",
       " (19.0, 16, 2),\n",
       " (13.0, 16, 3),\n",
       " (13.0, 16, 4),\n",
       " (15.0, 16, 5),\n",
       " (15.0, 16, 6),\n",
       " (11.0, 16, 7),\n",
       " (15.0, 16, 8),\n",
       " (14.0, 16, 9),\n",
       " (15.0, 16, 10),\n",
       " (15.0, 16, 11),\n",
       " (14.0, 16, 12),\n",
       " (20.0, 16, 13),\n",
       " (19.0, 16, 14),\n",
       " (20.0, 16, 15),\n",
       " (16.0, 16, 16),\n",
       " (18.0, 16, 17),\n",
       " (13.0, 16, 18),\n",
       " (29.0, 16, 19),\n",
       " (16.0, 16, 20),\n",
       " (23.0, 16, 21),\n",
       " (17.0, 17, 0),\n",
       " (14.0, 17, 1),\n",
       " (14.0, 17, 2),\n",
       " (13.0, 17, 3),\n",
       " (12.0, 17, 4),\n",
       " (13.0, 17, 5),\n",
       " (14.0, 17, 6),\n",
       " (16.0, 17, 7),\n",
       " (16.0, 17, 8),\n",
       " (11.0, 17, 9),\n",
       " (12.0, 17, 10),\n",
       " (200.0, 17, 11),\n",
       " (21.0, 17, 12),\n",
       " (17.0, 17, 13),\n",
       " (22.0, 17, 14),\n",
       " (14.0, 17, 15),\n",
       " (13.0, 17, 16),\n",
       " (13.0, 17, 17),\n",
       " (14.0, 17, 18),\n",
       " (23.0, 17, 19),\n",
       " (26.0, 17, 20),\n",
       " (62.0, 17, 21)]"
      ]
     },
     "execution_count": 142,
     "metadata": {},
     "output_type": "execute_result"
    }
   ],
   "source": [
    "lst"
   ]
  },
  {
   "cell_type": "code",
   "execution_count": 143,
   "metadata": {
    "collapsed": true
   },
   "outputs": [],
   "source": [
    "lst.sort(key=lambda x: x[0])"
   ]
  },
  {
   "cell_type": "code",
   "execution_count": 144,
   "metadata": {
    "collapsed": true
   },
   "outputs": [],
   "source": [
    "outs = find_moving_object(lst)"
   ]
  },
  {
   "cell_type": "code",
   "execution_count": 145,
   "metadata": {},
   "outputs": [
    {
     "data": {
      "text/plain": [
       "[(8, 9),\n",
       " (6, 14),\n",
       " (7, 8),\n",
       " (10, 9),\n",
       " (9, 9),\n",
       " (6, 13),\n",
       " (7, 9),\n",
       " (9, 13),\n",
       " (6, 9),\n",
       " (12, 9),\n",
       " (12, 8),\n",
       " (10, 13),\n",
       " (7, 12),\n",
       " (6, 10),\n",
       " (9, 8),\n",
       " (11, 9),\n",
       " (11, 8),\n",
       " (8, 8),\n",
       " (5, 10),\n",
       " (17, 11),\n",
       " (7, 13)]"
      ]
     },
     "execution_count": 145,
     "metadata": {},
     "output_type": "execute_result"
    }
   ],
   "source": [
    "outs"
   ]
  },
  {
   "cell_type": "code",
   "execution_count": 101,
   "metadata": {
    "collapsed": true
   },
   "outputs": [],
   "source": [
    "new = np.zeros_like(tmp)"
   ]
  },
  {
   "cell_type": "code",
   "execution_count": 148,
   "metadata": {
    "collapsed": true
   },
   "outputs": [],
   "source": [
    "mc2 = divideToMacroblocks(new)"
   ]
  },
  {
   "cell_type": "code",
   "execution_count": 149,
   "metadata": {},
   "outputs": [
    {
     "name": "stdout",
     "output_type": "stream",
     "text": [
      "y\n",
      "y\n",
      "y\n",
      "y\n",
      "y\n",
      "y\n",
      "y\n",
      "y\n",
      "y\n",
      "y\n",
      "y\n",
      "y\n",
      "y\n",
      "y\n",
      "y\n",
      "y\n",
      "y\n",
      "y\n",
      "y\n",
      "y\n",
      "y\n",
      "y\n",
      "y\n",
      "y\n",
      "y\n",
      "y\n",
      "y\n",
      "y\n",
      "y\n",
      "y\n",
      "y\n",
      "y\n",
      "y\n",
      "y\n",
      "y\n",
      "y\n",
      "y\n",
      "y\n",
      "y\n",
      "y\n",
      "y\n",
      "y\n",
      "y\n",
      "y\n",
      "y\n",
      "y\n",
      "y\n",
      "y\n",
      "y\n",
      "y\n",
      "y\n",
      "y\n",
      "y\n",
      "y\n",
      "y\n",
      "y\n"
     ]
    }
   ],
   "source": [
    "points = return_range(outs)\n",
    "for y, macby in enumerate(mc):\n",
    "    for x, macbx in enumerate(macby):\n",
    "        if (y,x) not in points :\n",
    "            mc2[y][x]=1000\n",
    "        else:\n",
    "            print ('y')\n",
    "            mc2[y][x]=mc[y][x]"
   ]
  },
  {
   "cell_type": "code",
   "execution_count": 150,
   "metadata": {},
   "outputs": [
    {
     "data": {
      "text/plain": [
       "<matplotlib.image.AxesImage at 0x1061fbb00>"
      ]
     },
     "execution_count": 150,
     "metadata": {},
     "output_type": "execute_result"
    },
    {
     "data": {
      "image/png": "[encoded data removed]",
      "text/plain": [
       "<matplotlib.figure.Figure at 0x110041ba8>"
      ]
     },
     "metadata": {},
     "output_type": "display_data"
    }
   ],
   "source": [
    "frame = imageReconstructFromBlocks(mc2)\n",
    "plt.imshow(frame, cmap='gray')"
   ]
  },
  {
   "cell_type": "code",
   "execution_count": 117,
   "metadata": {
    "collapsed": true
   },
   "outputs": [],
   "source": [
    "neighs = []\n",
    "for point in outs:\n",
    "    if has_neighbor(point, outs):\n",
    "        neighs.append(point)"
   ]
  },
  {
   "cell_type": "code",
   "execution_count": 146,
   "metadata": {},
   "outputs": [
    {
     "data": {
      "text/plain": [
       "[(5, 8),\n",
       " (5, 9),\n",
       " (5, 10),\n",
       " (5, 11),\n",
       " (5, 12),\n",
       " (5, 13),\n",
       " (5, 14),\n",
       " (6, 8),\n",
       " (6, 9),\n",
       " (6, 10),\n",
       " (6, 11),\n",
       " (6, 12),\n",
       " (6, 13),\n",
       " (6, 14),\n",
       " (7, 8),\n",
       " (7, 9),\n",
       " (7, 10),\n",
       " (7, 11),\n",
       " (7, 12),\n",
       " (7, 13),\n",
       " (7, 14),\n",
       " (8, 8),\n",
       " (8, 9),\n",
       " (8, 10),\n",
       " (8, 11),\n",
       " (8, 12),\n",
       " (8, 13),\n",
       " (8, 14),\n",
       " (9, 8),\n",
       " (9, 9),\n",
       " (9, 10),\n",
       " (9, 11),\n",
       " (9, 12),\n",
       " (9, 13),\n",
       " (9, 14),\n",
       " (10, 8),\n",
       " (10, 9),\n",
       " (10, 10),\n",
       " (10, 11),\n",
       " (10, 12),\n",
       " (10, 13),\n",
       " (10, 14),\n",
       " (11, 8),\n",
       " (11, 9),\n",
       " (11, 10),\n",
       " (11, 11),\n",
       " (11, 12),\n",
       " (11, 13),\n",
       " (11, 14),\n",
       " (12, 8),\n",
       " (12, 9),\n",
       " (12, 10),\n",
       " (12, 11),\n",
       " (12, 12),\n",
       " (12, 13),\n",
       " (12, 14)]"
      ]
     },
     "execution_count": 146,
     "metadata": {},
     "output_type": "execute_result"
    }
   ],
   "source": [
    "return_range(outs)"
   ]
  },
  {
   "cell_type": "code",
   "execution_count": 118,
   "metadata": {},
   "outputs": [
    {
     "data": {
      "text/plain": [
       "[(3, 5), (5, 4), (4, 4), (2, 5), (3, 6)]"
      ]
     },
     "execution_count": 118,
     "metadata": {},
     "output_type": "execute_result"
    }
   ],
   "source": [
    "neighs"
   ]
  },
  {
   "cell_type": "code",
   "execution_count": 124,
   "metadata": {
    "collapsed": true
   },
   "outputs": [],
   "source": [
    "xs, ys = [val[0] for val in neighs], [val[1] for val in neighs]"
   ]
  },
  {
   "cell_type": "code",
   "execution_count": 129,
   "metadata": {},
   "outputs": [
    {
     "data": {
      "text/plain": [
       "4"
      ]
     },
     "execution_count": 129,
     "metadata": {},
     "output_type": "execute_result"
    }
   ],
   "source": [
    "min(ys)"
   ]
  },
  {
   "cell_type": "code",
   "execution_count": 133,
   "metadata": {},
   "outputs": [
    {
     "name": "stdout",
     "output_type": "stream",
     "text": [
      "(2, 4)\n",
      "(2, 5)\n",
      "(2, 6)\n",
      "(3, 4)\n",
      "(3, 5)\n",
      "(3, 6)\n",
      "(4, 4)\n",
      "(4, 5)\n",
      "(4, 6)\n",
      "(5, 4)\n",
      "(5, 5)\n",
      "(5, 6)\n"
     ]
    }
   ],
   "source": [
    "for i in range(min(xs), max(xs)+1):\n",
    "    for j in range(min(ys), max(ys)+1):\n",
    "        print((i,j))"
   ]
  },
  {
   "cell_type": "code",
   "execution_count": null,
   "metadata": {
    "collapsed": true
   },
   "outputs": [],
   "source": []
  }
 ],
 "metadata": {
  "kernelspec": {
   "display_name": "Python 3",
   "language": "python",
   "name": "python3"
  },
  "language_info": {
   "codemirror_mode": {
    "name": "ipython",
    "version": 3
   },
   "file_extension": ".py",
   "mimetype": "text/x-python",
   "name": "python",
   "nbconvert_exporter": "python",
   "pygments_lexer": "ipython3",
   "version": "3.6.3"
  }
 },
 "nbformat": 4,
 "nbformat_minor": 2
}
