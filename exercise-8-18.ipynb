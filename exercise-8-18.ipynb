{
 "cells": [
  {
   "cell_type": "code",
   "execution_count": 2,
   "metadata": {
    "collapsed": true
   },
   "outputs": [],
   "source": [
    "%matplotlib inline\n",
    "\n",
    "import imageio\n",
    "import numpy as np\n",
    "import matplotlib.pyplot as plt\n",
    "import os\n",
    "import pandas as pd"
   ]
  },
  {
   "cell_type": "code",
   "execution_count": 28,
   "metadata": {},
   "outputs": [],
   "source": [
    "from tqdm import tqdm_notebook"
   ]
  },
  {
   "cell_type": "markdown",
   "metadata": {},
   "source": [
    "## FUNCTIONS"
   ]
  },
  {
   "cell_type": "code",
   "execution_count": 3,
   "metadata": {
    "collapsed": true
   },
   "outputs": [],
   "source": [
    "def readVideoFrames(filename):\n",
    "    vid = imageio.get_reader(filename,  'ffmpeg')\n",
    "    fps = vid.get_meta_data()['fps']\n",
    "    num = 0\n",
    "    frames = []\n",
    "    while 1:\n",
    "        try:\n",
    "            image = vid.get_data(num)\n",
    "            frames.append(image)\n",
    "            num+=1\n",
    "        except IndexError:\n",
    "            break\n",
    "\n",
    "    return np.array(frames), fps"
   ]
  },
  {
   "cell_type": "code",
   "execution_count": 4,
   "metadata": {
    "collapsed": true
   },
   "outputs": [],
   "source": [
    "def makeGrayScale(rgbVid):\n",
    "    '''Converts numpy array vid to grayscale vid'''\n",
    "    frames_bw = []\n",
    "    for frame in rgbVid:\n",
    "        frames_bw.append(np.around(np.dot(frame[:,:,:3], [0.2989, 0.587, 0.114])))\n",
    "    return np.array(frames_bw)"
   ]
  },
  {
   "cell_type": "code",
   "execution_count": 5,
   "metadata": {
    "collapsed": true
   },
   "outputs": [],
   "source": [
    "def calculateDifferenceFrames(frames):\n",
    "    dif_lst = []\n",
    "    for i in range(1, frames.shape[0]):\n",
    "        dif_lst.append(frames[i-1,:,:]-frames[i,:,:])\n",
    "    return np.array(dif_lst)"
   ]
  },
  {
   "cell_type": "code",
   "execution_count": 6,
   "metadata": {
    "collapsed": true
   },
   "outputs": [],
   "source": [
    "def divideToMacroblocks(frame, macroblock_size=16):\n",
    "    macroblocks = []\n",
    "    m, n = frame.shape\n",
    "    for i in range(0, m, macroblock_size):\n",
    "        for j in range(0, n, macroblock_size):\n",
    "            macroblock = frame[i:i+macroblock_size,j:j+macroblock_size]\n",
    "    #         print (macroblock.shape)\n",
    "            if macroblock.shape == (macroblock_size, macroblock_size):\n",
    "    #             print ('works')\n",
    "                macroblocks.append(macroblock)\n",
    "            else:\n",
    "    #             print ('something\\'s goin\\' on')\n",
    "                try:\n",
    "                    macroblock = np.vstack((macroblock, np.zeros(macroblock.shape[0], macroblock_size-macroblock.shape[1])))\n",
    "                except TypeError:\n",
    "                    pass\n",
    "                try:\n",
    "                    macroblock = np.hstack((macroblock, np.zeros(macroblock_size-macroblock.shape[0], macroblock.shape[1])))\n",
    "                except TypeError:\n",
    "                    pass\n",
    "                macroblocks.append(macroblock)\n",
    "    return np.array(macroblocks).reshape((int(m/macroblock_size), int(n/macroblock_size), macroblock_size, macroblock_size))"
   ]
  },
  {
   "cell_type": "code",
   "execution_count": 7,
   "metadata": {
    "collapsed": true
   },
   "outputs": [],
   "source": [
    "def createNeighborhood(referenceFrame, indexOfMacroblock, macroblock_size=16, k=16):\n",
    "    neighborhood = []\n",
    "#     print (indexOfMacroblock)\n",
    "    for i in range(indexOfMacroblock[0]-k, indexOfMacroblock[0]+k+1, k):\n",
    "        for j in range(indexOfMacroblock[1]-k, indexOfMacroblock[1]+k+1, k):\n",
    "            if (i >= 0 and j >= 0 and i+macroblock_size < referenceFrame.shape[0] and j+macroblock_size < referenceFrame.shape[1]):\n",
    "#                 print (i,j)\n",
    "                neighborhood.append(referenceFrame[i:i+macroblock_size, j:j+macroblock_size])\n",
    "            else:\n",
    "                neighborhood += [None]\n",
    "    return neighborhood"
   ]
  },
  {
   "cell_type": "code",
   "execution_count": 8,
   "metadata": {
    "collapsed": true
   },
   "outputs": [],
   "source": [
    "def SAD(referenceMacroblock, targetMacroblock):\n",
    "#     print (targetMacroblock.shape, referenceMacroblock.shape)\n",
    "    return np.sum(np.abs(targetMacroblock - referenceMacroblock))"
   ]
  },
  {
   "cell_type": "code",
   "execution_count": 9,
   "metadata": {
    "collapsed": true
   },
   "outputs": [],
   "source": [
    "def calculateSAD(targetMacroblock, referenceFrame_neighbor_macroblocks):\n",
    "    SADvals = []\n",
    "        \n",
    "    for macroblock in referenceFrame_neighbor_macroblocks:\n",
    "        if macroblock is not None:\n",
    "            SADvals.append(SAD(macroblock, targetMacroblock))\n",
    "        else:\n",
    "            SADvals.append(np.Inf)\n",
    "    \n",
    "    return np.array(SADvals).reshape((3,3))"
   ]
  },
  {
   "cell_type": "code",
   "execution_count": 10,
   "metadata": {
    "collapsed": true
   },
   "outputs": [],
   "source": [
    "def logarithmicSearch(referenceFrame, targetMacroblock, indexOfMacroblock, macroblock_size=16, k=16):\n",
    "    if (k == 0):\n",
    "        return indexOfMacroblock, referenceFrame[indexOfMacroblock[0]:indexOfMacroblock[0]+macroblock_size, indexOfMacroblock[1]:indexOfMacroblock[1]+macroblock_size] # motionVector END (To_WIDTH, To_HEIGHT), return Predicted Frame\n",
    "    \n",
    "    referenceFrame_neighbor_macroblocks = createNeighborhood(referenceFrame, indexOfMacroblock, macroblock_size, k)\n",
    "\n",
    "    SAD_values = calculateSAD(targetMacroblock, referenceFrame_neighbor_macroblocks)\n",
    "#     print (SAD_values)\n",
    "    indexofMinimumSAD = divmod(SAD_values.argmin(), SAD_values.shape[1])\n",
    "    newIndexOfMacroblock = list(indexOfMacroblock)\n",
    "    \n",
    "    if (indexofMinimumSAD[0] == 0):\n",
    "        newIndexOfMacroblock[0] = indexOfMacroblock[0] - k\n",
    "    elif (indexofMinimumSAD[0] == 2):\n",
    "        newIndexOfMacroblock[0] = indexOfMacroblock[0] + k\n",
    "    \n",
    "    if (indexofMinimumSAD[1] == 0):\n",
    "        newIndexOfMacroblock[1] = indexOfMacroblock[1] - k\n",
    "    elif (indexofMinimumSAD[1] == 2):\n",
    "        newIndexOfMacroblock[1] = indexOfMacroblock[1] + k\n",
    "\n",
    "    if (indexofMinimumSAD[0] == 1 and indexofMinimumSAD[1] == 1):\n",
    "        newK = k//2\n",
    "    else:\n",
    "        newK = k       \n",
    "#     print (indexofMinimumSAD)\n",
    "#     print (newIndexOfMacroblock)\n",
    "    return logarithmicSearch(referenceFrame, targetMacroblock, tuple(newIndexOfMacroblock), macroblock_size, newK)"
   ]
  },
  {
   "cell_type": "code",
   "execution_count": 11,
   "metadata": {
    "collapsed": true
   },
   "outputs": [],
   "source": [
    "def motionCompensation(referenceFrame, targetFrame, macroblock_size=16):\n",
    "    predictedBlocks = []\n",
    "    motionVectors = []\n",
    "    \n",
    "    targetMacroblocks = divideToMacroblocks(targetFrame, macroblock_size)\n",
    "    for i in range(targetMacroblocks.shape[0]):\n",
    "        for j in range(targetMacroblocks.shape[1]):\n",
    "            motionVectorSTART = (i*macroblock_size, j*macroblock_size)\n",
    "            indexofBlock = (i*macroblock_size, j*macroblock_size)\n",
    "            motionVectorEND, prediction = logarithmicSearch(referenceFrame, targetMacroblocks[i,j,:,:], indexofBlock)\n",
    "            predictedBlocks.append(prediction)\n",
    "            motionVectors.append(motionVectorSTART+motionVectorEND)\n",
    "\n",
    "#     print (len(motionVectors))\n",
    "    predictedBlocks = np.array(predictedBlocks).reshape(targetMacroblocks.shape)\n",
    "    motionVectors = np.array(motionVectors, dtype=(int,4)).reshape((targetMacroblocks.shape[0], targetMacroblocks.shape[1], 4))\n",
    "    return predictedBlocks, motionVectors"
   ]
  },
  {
   "cell_type": "code",
   "execution_count": 12,
   "metadata": {
    "collapsed": true
   },
   "outputs": [],
   "source": [
    "def imageReconstructFromBlocks(blocks):\n",
    "    lines = []\n",
    "    for i in range(blocks.shape[0]):\n",
    "        line = []\n",
    "        for j in range(blocks.shape[1]):\n",
    "            line.append(blocks[i,j,:,:])\n",
    "        line = np.hstack(line)\n",
    "        lines.append(line)\n",
    "    return np.vstack(lines)"
   ]
  },
  {
   "cell_type": "code",
   "execution_count": 14,
   "metadata": {
    "collapsed": true
   },
   "outputs": [],
   "source": [
    "def group_consecutives(vals, step=1):\n",
    "    \"\"\"Return list of consecutive lists of numbers from vals (number list).\"\"\"\n",
    "    run = []\n",
    "    result = [run]\n",
    "    expect = None\n",
    "    for v in vals:\n",
    "        if (v == expect) or (expect is None):\n",
    "            run.append(v)\n",
    "        else:\n",
    "            run = [v]\n",
    "            result.append(run)\n",
    "        expect = v + step\n",
    "    return result"
   ]
  },
  {
   "cell_type": "code",
   "execution_count": 40,
   "metadata": {
    "collapsed": true
   },
   "outputs": [],
   "source": [
    "def make_var_list(mbs):\n",
    "    ''' Make a list (a,x,y)\n",
    "        a = max value of variance in each macroblock\n",
    "        x,y = macroblock's coordinates\n",
    "        \n",
    "        input: macroblocks of differnce image'''\n",
    "    lst = []\n",
    "    for y, macby in enumerate(mbs):\n",
    "        for x, macbx in enumerate(macby):\n",
    "            lst.append((max(pd.DataFrame(macbx).var()), y, x))\n",
    "            \n",
    "    return lst"
   ]
  },
  {
   "cell_type": "code",
   "execution_count": 16,
   "metadata": {
    "collapsed": true
   },
   "outputs": [],
   "source": [
    "def swap_object(coords, frame, back):\n",
    "    ''' Swap frame's macroblocks given as coords with the same ones from back '''\n",
    "    tmp = frame\n",
    "    for tup in coords:\n",
    "        y,x = tup\n",
    "        tmp[y][x] = back[y][x]\n",
    "        \n",
    "    return tmp"
   ]
  },
  {
   "cell_type": "code",
   "execution_count": 17,
   "metadata": {
    "collapsed": true
   },
   "outputs": [],
   "source": [
    "def reconstruct_vid(img1, diffs):\n",
    "    ''' Reconstruct a video from the difference frames and the 1st frame'''\n",
    "    final_vid  = [img1]\n",
    "    cnt = 1\n",
    "    for frame in diffs:\n",
    "        final_vid.append(final_vid[-1]-frame)\n",
    "        \n",
    "    \n",
    "    return np.array(final_vid)"
   ]
  },
  {
   "cell_type": "code",
   "execution_count": 19,
   "metadata": {
    "collapsed": true
   },
   "outputs": [],
   "source": [
    "def has_n_neighbor(point, lst, num=1):\n",
    "    ''' Return True if point has atleast #num of neighbors in list lst (other than itself)'''\n",
    "    neighs = []\n",
    "    for cand in lst:\n",
    "        if abs(cand[0]-point[0])<=1 and abs(cand[1]-point[1])<=1 and point != cand:\n",
    "            neighs.append(cand)\n",
    "            \n",
    "    if len(neighs)>=num:\n",
    "        return True\n",
    "    else:\n",
    "        return False\n",
    "        \n",
    "        "
   ]
  },
  {
   "cell_type": "code",
   "execution_count": 20,
   "metadata": {
    "collapsed": true
   },
   "outputs": [],
   "source": [
    "def return_range(lst, min_neighs=1):\n",
    "    '''Return the full area that coords of lst cover, creating a rectangle around said coords. \n",
    "        Used for clustering macroblocks for better frame swapping'''\n",
    "    neighs=  []\n",
    "    final_range = []\n",
    "    for point in lst:\n",
    "        if has_n_neighbor(point, lst, num=min_neighs):\n",
    "            neighs.append(point)\n",
    "    \n",
    "    xs, ys = [val[0] for val in neighs], [val[1] for val in neighs]\n",
    "    \n",
    "    if len(xs)==0 or len(ys)==0:\n",
    "        return []\n",
    "    for i in range(min(xs), max(xs)+1):\n",
    "        for j in range(min(ys), max(ys)+1):\n",
    "            final_range.append((i,j))\n",
    "            \n",
    "    return final_range"
   ]
  },
  {
   "cell_type": "code",
   "execution_count": 21,
   "metadata": {},
   "outputs": [],
   "source": [
    "def return_mem(lst):\n",
    "    ''' Returns the set list that contains the macroblocks to be swap from all the lists inside lst'''\n",
    "    tmp = []\n",
    "    for el in lst:\n",
    "        tmp += el\n",
    "        \n",
    "    return list(set(tmp))"
   ]
  },
  {
   "cell_type": "code",
   "execution_count": 115,
   "metadata": {},
   "outputs": [],
   "source": [
    "def find_moving_object_v2(lst):\n",
    "    ''' Returns the coordinates of the macroblocks that have a higher max variance value than the upper inner fence'''\n",
    "    vals = np.array([val[0] for val in lst])\n",
    "    Q75 = np.percentile(vals, 75)\n",
    "    iqr = Q75 - np.percentile(vals, 25)\n",
    "    \n",
    "    outs = []\n",
    "    for tup in lst:\n",
    "        if tup[0]>Q75+(1.5*iqr):\n",
    "            outs.append((tup[1], tup[2]))\n",
    "    \n",
    "    return outs"
   ]
  },
  {
   "cell_type": "code",
   "execution_count": 122,
   "metadata": {},
   "outputs": [],
   "source": [
    "def save_vid(frames, resources_path='.', name='sample'):\n",
    "    ''' Saves video '''\n",
    "    writer = imageio.get_writer(os.path.join(resources_path,name+'.mp4'), fps=fps,mode=\"I\")\n",
    "\n",
    "    for frame in frames:\n",
    "        writer.append_data(frame)\n",
    "    writer.close()"
   ]
  },
  {
   "cell_type": "markdown",
   "metadata": {},
   "source": [
    "## Main"
   ]
  },
  {
   "cell_type": "code",
   "execution_count": 86,
   "metadata": {
    "collapsed": true
   },
   "outputs": [],
   "source": [
    "hall_monitor_cif = \"resources/ex617/hall_monitor_cif.y4m\"\n",
    "resources_path = \"resources/ex818\""
   ]
  },
  {
   "cell_type": "code",
   "execution_count": 87,
   "metadata": {
    "collapsed": true
   },
   "outputs": [],
   "source": [
    "videoFrames, fps = readVideoFrames(hall_monitor_cif)"
   ]
  },
  {
   "cell_type": "code",
   "execution_count": 124,
   "metadata": {
    "scrolled": true
   },
   "outputs": [],
   "source": [
    "videoFramesSample = videoFrames[:, :, :, :]\n",
    "videoFramesSample = makeGrayScale(videoFramesSample)"
   ]
  },
  {
   "cell_type": "code",
   "execution_count": 123,
   "metadata": {},
   "outputs": [
    {
     "name": "stderr",
     "output_type": "stream",
     "text": [
      "/anaconda3/lib/python3.6/site-packages/imageio/core/util.py:104: UserWarning: Conversion from float64 to uint8, range [0.0, 255.0]\n",
      "  'range [{2}, {3}]'.format(dtype_str, out_type.__name__, mi, ma))\n"
     ]
    }
   ],
   "source": [
    "# diff frames to keep as memory and size of macroblocks\n",
    "keep_memory = 0\n",
    "size_of_mbs = 16\n",
    "\n",
    "# append the 1st sample to the end video and divide it to macroblocks. Keep those as background\n",
    "finalVideoFramesSample = [videoFramesSample[0]]\n",
    "mb_back = divideToMacroblocks(videoFramesSample[0],size_of_mbs)\n",
    "\n",
    "# init memory\n",
    "mbs = [[] for _ in range(keep_memory)]\n",
    "\n",
    "# calc difference frames\n",
    "FrameDifferenceSample = calculateDifferenceFrames(videoFramesSample)\n",
    "\n",
    "for cnt, frame in enumerate(FrameDifferenceSample):\n",
    "    # divide the difference frame to macroblocks\n",
    "    mc = divideToMacroblocks(frame,size_of_mbs)\n",
    "    # make a list of the max variance between color values per macroblock and the macroblock coordinates. Sort it based on the value\n",
    "    lst = make_var_list(mc)\n",
    "    lst.sort(key=lambda x: x[0])\n",
    "    # find the moving object inside the frame using outlier detection techniques\n",
    "    moving_mbs = find_moving_object_v2(lst)\n",
    "    # return the area covered of macroblocks that have atleast 1 neighbor. Cluster those in a sence\n",
    "    final_mbs = return_range(moving_mbs, min_neighs=1)\n",
    "    # append the coordinates of the macroblocks that are to be removed to the mem list\n",
    "    mbs.append(final_mbs)\n",
    "    # devide the new simple frame to macroblocks\n",
    "    mb_new = divideToMacroblocks(videoFramesSample[cnt+1],size_of_mbs)\n",
    "    # return the full set of macroblocks to change , using both the one created from the last frame and n-1 more from the past    \n",
    "    full_mb = return_mem(mbs[-keep_memory:])\n",
    "    # create the new frame by swaping said macroblocks with background ones\n",
    "    new_frame = swap_object(full_mb,mb_new, mb_back)\n",
    "    # reconstruct and append the image to the final list\n",
    "    final_img = imageReconstructFromBlocks(new_frame)\n",
    "    finalVideoFramesSample.append(final_img)\n",
    "\n",
    "save_vid(finalVideoFramesSample, resources_path, 'hall_monitor_cif_exafanizol')"
   ]
  },
  {
   "cell_type": "code",
   "execution_count": null,
   "metadata": {},
   "outputs": [],
   "source": []
  }
 ],
 "metadata": {
  "kernelspec": {
   "display_name": "Python 3",
   "language": "python",
   "name": "python3"
  },
  "language_info": {
   "codemirror_mode": {
    "name": "ipython",
    "version": 3
   },
   "file_extension": ".py",
   "mimetype": "text/x-python",
   "name": "python",
   "nbconvert_exporter": "python",
   "pygments_lexer": "ipython3",
   "version": "3.6.4"
  }
 },
 "nbformat": 4,
 "nbformat_minor": 2
}
